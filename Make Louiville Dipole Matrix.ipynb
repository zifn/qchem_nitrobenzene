{
 "cells": [
  {
   "cell_type": "code",
   "execution_count": 111,
   "metadata": {},
   "outputs": [
    {
     "name": "stdout",
     "output_type": "stream",
     "text": [
      "1.1.0\n"
     ]
    }
   ],
   "source": [
    "from sys import argv\n",
    "from copy import deepcopy\n",
    "from itertools import product\n",
    "\n",
    "import pandas as pd\n",
    "import numpy as np\n",
    "import scipy as sp\n",
    "\n",
    "print(pd.__version__)\n",
    "DIPOLES_FILE = \"globus\\\\GW_transition_dipole_files\\\\GW_transition_dipoles.csv\""
   ]
  },
  {
   "cell_type": "code",
   "execution_count": 114,
   "metadata": {
    "scrolled": false
   },
   "outputs": [
    {
     "data": {
      "text/html": [
       "<div>\n",
       "<style scoped>\n",
       "    .dataframe tbody tr th:only-of-type {\n",
       "        vertical-align: middle;\n",
       "    }\n",
       "\n",
       "    .dataframe tbody tr th {\n",
       "        vertical-align: top;\n",
       "    }\n",
       "\n",
       "    .dataframe thead th {\n",
       "        text-align: right;\n",
       "    }\n",
       "</style>\n",
       "<table border=\"1\" class=\"dataframe\">\n",
       "  <thead>\n",
       "    <tr style=\"text-align: right;\">\n",
       "      <th></th>\n",
       "      <th></th>\n",
       "      <th></th>\n",
       "      <th>energy</th>\n",
       "    </tr>\n",
       "    <tr>\n",
       "      <th>state_no</th>\n",
       "      <th>sym</th>\n",
       "      <th>spin</th>\n",
       "      <th></th>\n",
       "    </tr>\n",
       "  </thead>\n",
       "  <tbody>\n",
       "    <tr>\n",
       "      <th>0</th>\n",
       "      <th>1</th>\n",
       "      <th>0</th>\n",
       "      <td>0.000000</td>\n",
       "    </tr>\n",
       "    <tr>\n",
       "      <th rowspan=\"4\" valign=\"top\">1</th>\n",
       "      <th>1</th>\n",
       "      <th>0</th>\n",
       "      <td>0.150763</td>\n",
       "    </tr>\n",
       "    <tr>\n",
       "      <th>4</th>\n",
       "      <th>0</th>\n",
       "      <td>0.152166</td>\n",
       "    </tr>\n",
       "    <tr>\n",
       "      <th>2</th>\n",
       "      <th>0</th>\n",
       "      <td>0.159919</td>\n",
       "    </tr>\n",
       "    <tr>\n",
       "      <th>3</th>\n",
       "      <th>0</th>\n",
       "      <td>0.163620</td>\n",
       "    </tr>\n",
       "    <tr>\n",
       "      <th>2</th>\n",
       "      <th>2</th>\n",
       "      <th>0</th>\n",
       "      <td>0.167713</td>\n",
       "    </tr>\n",
       "    <tr>\n",
       "      <th>3</th>\n",
       "      <th>2</th>\n",
       "      <th>0</th>\n",
       "      <td>0.172648</td>\n",
       "    </tr>\n",
       "    <tr>\n",
       "      <th>2</th>\n",
       "      <th>1</th>\n",
       "      <th>0</th>\n",
       "      <td>0.196199</td>\n",
       "    </tr>\n",
       "    <tr>\n",
       "      <th>3</th>\n",
       "      <th>1</th>\n",
       "      <th>0</th>\n",
       "      <td>0.236141</td>\n",
       "    </tr>\n",
       "    <tr>\n",
       "      <th rowspan=\"2\" valign=\"top\">2</th>\n",
       "      <th>4</th>\n",
       "      <th>0</th>\n",
       "      <td>0.287637</td>\n",
       "    </tr>\n",
       "    <tr>\n",
       "      <th>3</th>\n",
       "      <th>0</th>\n",
       "      <td>0.290678</td>\n",
       "    </tr>\n",
       "    <tr>\n",
       "      <th rowspan=\"2\" valign=\"top\">3</th>\n",
       "      <th>3</th>\n",
       "      <th>0</th>\n",
       "      <td>0.308605</td>\n",
       "    </tr>\n",
       "    <tr>\n",
       "      <th>4</th>\n",
       "      <th>0</th>\n",
       "      <td>0.317828</td>\n",
       "    </tr>\n",
       "  </tbody>\n",
       "</table>\n",
       "</div>"
      ],
      "text/plain": [
       "                     energy\n",
       "state_no sym spin          \n",
       "0        1   0     0.000000\n",
       "1        1   0     0.150763\n",
       "         4   0     0.152166\n",
       "         2   0     0.159919\n",
       "         3   0     0.163620\n",
       "2        2   0     0.167713\n",
       "3        2   0     0.172648\n",
       "2        1   0     0.196199\n",
       "3        1   0     0.236141\n",
       "2        4   0     0.287637\n",
       "         3   0     0.290678\n",
       "3        3   0     0.308605\n",
       "         4   0     0.317828"
      ]
     },
     "metadata": {},
     "output_type": "display_data"
    },
    {
     "data": {
      "text/plain": [
       "moment   -1.669993\n",
       "Name: (z, 0, 1, 0, 0, 1, 0), dtype: float64"
      ]
     },
     "metadata": {},
     "output_type": "display_data"
    }
   ],
   "source": [
    "df = pd.read_csv(DIPOLES_FILE, index_col=0)\n",
    "mu_df2 = pd.read_csv(DIPOLES_FILE, index_col=[1,4,5,6,7,8,9])\n",
    "df = df.fillna(0)\n",
    "df = df.drop(columns=[\"mu_sym\",\"mu_spin\"])\n",
    "df['B_spin'] = df['B_spin'].astype(int)\n",
    "df['C_spin'] = df['C_spin'].astype(int)\n",
    "\n",
    "benergy_df = df.drop(columns=[\"mu_label\", \"C_energy\", \"C_state_no\", \"C_sym\", \"C_spin\", \"moment\"])\n",
    "benergy_df = benergy_df.drop_duplicates()\n",
    "benergy_df = benergy_df.rename(columns={\"B_state_no\": \"state_no\", \"B_sym\": \"sym\", \"B_spin\": \"spin\", \"B_energy\": \"energy\"})\n",
    "\n",
    "cenergy_df = df.drop(columns=[\"mu_label\", \"B_energy\", \"B_state_no\", \"B_sym\", \"B_spin\", \"moment\"])\n",
    "cenergy_df = cenergy_df.drop_duplicates()\n",
    "cenergy_df = cenergy_df.rename(columns={\"C_state_no\": \"state_no\", \"C_sym\": \"sym\", \"C_spin\": \"spin\", \"C_energy\": \"energy\"})\n",
    "\n",
    "energy_df = pd.concat([benergy_df, cenergy_df])\n",
    "energy_df = energy_df.drop_duplicates(subset=[\"state_no\", \"sym\", \"spin\"])\n",
    "energy_df = energy_df.sort_values(\"energy\")\n",
    "energy_df = energy_df.set_index([\"state_no\", \"sym\", \"spin\"])\n",
    "display(energy_df)\n",
    "state_order = energy_df.index.to_list()\n",
    "\n",
    "rho_populations = list(zip(state_order, state_order))\n",
    "rho_coherences = [ (state1, state2) for state1, state2 in product(state_order, state_order)\n",
    "                  if (state1, state2) not in rho_populations]\n",
    "rho_ordered = rho_populations + rho_coherences\n",
    "\n",
    "mu_df = df.drop(columns=[\"B_energy\", \"C_energy\"])\n",
    "mu_df_adj = mu_df.rename(columns={\"C_state_no\": \"B_state_no\", \"C_sym\": \"B_sym\",\n",
    "                                  \"C_spin\": \"B_spin\", \"B_state_no\": \"C_state_no\",\n",
    "                                  \"B_sym\": \"C_sym\", \"B_spin\": \"C_spin\"})\n",
    "\n",
    "mu_df = pd.concat([mu_df, mu_df_adj])\n",
    "mu_df = mu_df.drop_duplicates(subset=[\"mu_label\", \"B_state_no\", \"B_sym\", \"B_spin\", \"C_state_no\", \"C_sym\", \"C_spin\"])\n",
    "mu_df = mu_df.set_index([\"mu_label\", \"B_state_no\", \"B_sym\", \"B_spin\", \"C_state_no\", \"C_sym\", \"C_spin\"]).sort_index()\n",
    "display(mu_df.loc[('z', 0, 1, 0, 0, 1, 0)])\n"
   ]
  },
  {
   "cell_type": "code",
   "execution_count": 148,
   "metadata": {},
   "outputs": [],
   "source": [
    "def delta(state1, state2):\n",
    "    if all([elm1 == elm2 for elm1, elm2 in zip(state1, state2)]):\n",
    "        return 1\n",
    "    else:\n",
    "        return 0\n",
    "\n",
    "def mu_liouville_element(mu_df, mu_label, rho_1, rho_2):\n",
    "    n_prime, m_prime = rho_1\n",
    "    n, m = rho_2\n",
    "    try:\n",
    "        mu_nnp = mu_df.loc[(mu_label, *n, *n_prime)].to_numpy()[0]\n",
    "    except KeyError as e:\n",
    "        mu_nnp = 0\n",
    "    try:\n",
    "        mu_mmp = mu_df.loc[(mu_label, *m, *m_prime)].to_numpy()[0]\n",
    "    except KeyError as e:\n",
    "        mu_mmp = 0\n",
    "    \n",
    "    return mu_nnp*delta(m, m_prime) - mu_mmp*delta(n, n_prime)\n",
    "\n",
    "def make_mu_liouville_matrix(mu_df, rho_ordered):\n",
    "    mus = {}\n",
    "    for mu_label in [\"x\", \"y\", \"z\"]:\n",
    "        mus[mu_label] = np.array([[mu_liouville_element(mu_df, mu_label, rho1, rho2)\n",
    "                                   for rho1 in rho_ordered] for rho2 in rho_ordered])\n",
    "    return mus\n",
    "\n",
    "def make_L_mol_liouville_matrix(energy_df, rho_ordered):\n",
    "    L_mol = np.diag([energy_df.loc[rho[0]].to_numpy()[0] - energy_df.loc[rho[1]].to_numpy()[0] \n",
    "                                   for rho in rho_ordered])\n",
    "    return L_mol\n"
   ]
  },
  {
   "cell_type": "code",
   "execution_count": 151,
   "metadata": {
    "scrolled": false
   },
   "outputs": [
    {
     "data": {
      "text/plain": [
       "(169, 169)"
      ]
     },
     "execution_count": 151,
     "metadata": {},
     "output_type": "execute_result"
    }
   ],
   "source": [
    "mu_liou_xyz = make_mu_liouville_matrix(mu_df, rho_ordered)\n",
    "mu_liou_xyz['x'].shape"
   ]
  },
  {
   "cell_type": "code",
   "execution_count": 149,
   "metadata": {},
   "outputs": [
    {
     "data": {
      "text/plain": [
       "(169, 169)"
      ]
     },
     "execution_count": 149,
     "metadata": {},
     "output_type": "execute_result"
    }
   ],
   "source": [
    "L_mol = make_L_mol_liouville_matrix(energy_df, rho_ordered)\n",
    "L_mol.shape"
   ]
  },
  {
   "cell_type": "code",
   "execution_count": 138,
   "metadata": {},
   "outputs": [
    {
     "data": {
      "text/plain": [
       "array([[0, 0, 0, 0, 0, 0, 0, 0, 0, 0, 0, 0, 0, 0, 0],\n",
       "       [0, 0, 0, 0, 0, 0, 0, 0, 0, 0, 0, 0, 0, 0, 0],\n",
       "       [0, 0, 0, 0, 0, 0, 0, 0, 0, 0, 0, 0, 0, 0, 0],\n",
       "       [0, 0, 0, 0, 0, 0, 0, 0, 0, 0, 0, 0, 0, 0, 0],\n",
       "       [0, 0, 0, 0, 0, 0, 0, 0, 0, 0, 0, 0, 0, 0, 0],\n",
       "       [0, 0, 0, 0, 0, 0, 0, 0, 0, 0, 0, 0, 0, 0, 0],\n",
       "       [0, 0, 0, 0, 0, 0, 1, 0, 0, 0, 0, 0, 0, 0, 0],\n",
       "       [0, 0, 0, 0, 0, 0, 0, 2, 0, 0, 0, 0, 0, 0, 0],\n",
       "       [0, 0, 0, 0, 0, 0, 0, 0, 3, 0, 0, 0, 0, 0, 0],\n",
       "       [0, 0, 0, 0, 0, 0, 0, 0, 0, 4, 0, 0, 0, 0, 0],\n",
       "       [0, 0, 0, 0, 0, 0, 0, 0, 0, 0, 5, 0, 0, 0, 0],\n",
       "       [0, 0, 0, 0, 0, 0, 0, 0, 0, 0, 0, 6, 0, 0, 0],\n",
       "       [0, 0, 0, 0, 0, 0, 0, 0, 0, 0, 0, 0, 7, 0, 0],\n",
       "       [0, 0, 0, 0, 0, 0, 0, 0, 0, 0, 0, 0, 0, 8, 0],\n",
       "       [0, 0, 0, 0, 0, 0, 0, 0, 0, 0, 0, 0, 0, 0, 9]])"
      ]
     },
     "execution_count": 138,
     "metadata": {},
     "output_type": "execute_result"
    }
   ],
   "source": [
    "np.diag( 5*[0] + list(range(10)))"
   ]
  },
  {
   "cell_type": "code",
   "execution_count": null,
   "metadata": {},
   "outputs": [],
   "source": []
  },
  {
   "cell_type": "code",
   "execution_count": null,
   "metadata": {},
   "outputs": [],
   "source": []
  },
  {
   "cell_type": "code",
   "execution_count": null,
   "metadata": {},
   "outputs": [],
   "source": []
  },
  {
   "cell_type": "code",
   "execution_count": null,
   "metadata": {},
   "outputs": [],
   "source": []
  },
  {
   "cell_type": "code",
   "execution_count": null,
   "metadata": {},
   "outputs": [],
   "source": []
  },
  {
   "cell_type": "code",
   "execution_count": null,
   "metadata": {},
   "outputs": [],
   "source": []
  },
  {
   "cell_type": "code",
   "execution_count": null,
   "metadata": {},
   "outputs": [],
   "source": []
  },
  {
   "cell_type": "code",
   "execution_count": null,
   "metadata": {},
   "outputs": [],
   "source": []
  },
  {
   "cell_type": "code",
   "execution_count": null,
   "metadata": {},
   "outputs": [],
   "source": []
  },
  {
   "cell_type": "code",
   "execution_count": null,
   "metadata": {},
   "outputs": [],
   "source": []
  },
  {
   "cell_type": "code",
   "execution_count": null,
   "metadata": {},
   "outputs": [],
   "source": []
  },
  {
   "cell_type": "code",
   "execution_count": null,
   "metadata": {},
   "outputs": [],
   "source": []
  },
  {
   "cell_type": "code",
   "execution_count": null,
   "metadata": {},
   "outputs": [],
   "source": []
  },
  {
   "cell_type": "code",
   "execution_count": null,
   "metadata": {},
   "outputs": [],
   "source": []
  },
  {
   "cell_type": "code",
   "execution_count": null,
   "metadata": {},
   "outputs": [],
   "source": []
  },
  {
   "cell_type": "code",
   "execution_count": null,
   "metadata": {},
   "outputs": [],
   "source": []
  },
  {
   "cell_type": "code",
   "execution_count": null,
   "metadata": {},
   "outputs": [],
   "source": []
  }
 ],
 "metadata": {
  "kernelspec": {
   "display_name": "Python 3",
   "language": "python",
   "name": "python3"
  },
  "language_info": {
   "codemirror_mode": {
    "name": "ipython",
    "version": 3
   },
   "file_extension": ".py",
   "mimetype": "text/x-python",
   "name": "python",
   "nbconvert_exporter": "python",
   "pygments_lexer": "ipython3",
   "version": "3.6.11"
  }
 },
 "nbformat": 4,
 "nbformat_minor": 4
}
