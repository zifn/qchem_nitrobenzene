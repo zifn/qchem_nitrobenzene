{
 "cells": [
  {
   "cell_type": "code",
   "execution_count": 1,
   "metadata": {},
   "outputs": [],
   "source": [
    "import os\n",
    "from IPython.display import Math, Latex\n",
    "import itertools\n",
    "import pickle\n",
    "import sympy as sp\n",
    "import numpy as np\n",
    "import pandas as pd\n",
    "from sympy import init_printing\n",
    "import scipy.constants as constants\n",
    "\n",
    "init_printing()"
   ]
  },
  {
   "cell_type": "code",
   "execution_count": 10,
   "metadata": {},
   "outputs": [],
   "source": [
    "chi3_conversion_factor = constants.physical_constants[\"atomic unit of 2nd hyperpolarizability\"][0]/constants.epsilon_0\n",
    "NB_mass_density = 1.199 #g/cm^3\n",
    "NB_molar_mass = 123.11 # g/mol\n",
    "NB_numb_density_per_cm3 = np.multiply(np.true_divide(NB_mass_density, NB_molar_mass), constants.N_A) # numb/cm^3\n",
    "NB_numb_density_per_m3 =  np.multiply(NB_numb_density_per_cm3, 100**3)\n",
    "NB_numb_density = NB_numb_density_per_m3\n",
    "\n",
    "def euler_integration(R):\n",
    "    return sp.integrate(sp.integrate(sp.integrate(R, (alph, -sp.pi, sp.pi)), (beta, -sp.pi/2, sp.pi/2)), (gamma, -sp.pi, sp.pi))\n",
    "\n",
    "def delta(i, j):\n",
    "    \"\"\"\n",
    "    Python implementation of a delta function\n",
    "    \"\"\"\n",
    "    if i == j:\n",
    "        return 1\n",
    "    else:\n",
    "        return 0\n",
    "\n",
    "def refractive_index_sq_of_liq_NB(lambda_um):\n",
    "    \"\"\"\n",
    "    temp 20 deg C\n",
    "    from https://refractiveindex.info/?shelf=organic&book=nitrobenzene&page=Kedenburg\n",
    "    wavelen of light must be in microns\n",
    "    \"\"\"\n",
    "    return 1 + ((1.30628*np.square(lambda_um))/(np.square(lambda_um) - 0.02268)) + ((0.00502*np.square(lambda_um))/(np.square(lambda_um) - 0.18487))\n",
    "    \n",
    "def rot_ave_gamma(gamma, i, j, k, l):\n",
    "    \"\"\"\n",
    "    Calculated the pure electronic rotationally averaged second hyperpolarizability in\n",
    "    the lab frame using the molecular frame second order hyperpolarizability\n",
    "    \n",
    "    i,j,k,l are the lab frame cartiesian indices of rotationally ave gamma\n",
    "    gamma is a 4th rank tensor with 4 indices in the molecular frame \n",
    "    \n",
    "    Kwak 2015 Rigorous theory of molecular orientational nonlinear optics A7\n",
    "    \"\"\"\n",
    "    coordinates = [0, 1, 2]\n",
    "    \n",
    "    #Calculate pure electronic case\n",
    "    del_fact0 = 4*delta(i, j)*delta(k, l) - delta(i, k)*delta(j, l) - delta(i, l)*delta(j, k)\n",
    "    del_fact1 = 4*delta(i, k)*delta(j, l) - delta(i, j)*delta(k, l) - delta(i, l)*delta(j, k)\n",
    "    del_fact2 = 4*delta(i, l)*delta(j, k) - delta(i, k)*delta(j, l) - delta(i, j)*delta(k, l)\n",
    "    \n",
    "    accumulator = 0\n",
    "    called_indices = []\n",
    "    for J in coordinates:\n",
    "        for K in coordinates:\n",
    "            accumulator += np.add(np.add(del_fact0*gamma[J][J][K][K], del_fact1*gamma[J][K][J][K]),  del_fact2*gamma[J][K][K][J])\n",
    "            called_indices.append((J,J,K,K))\n",
    "            called_indices.append((J,K,J,K))\n",
    "            called_indices.append((J,K,K,J))\n",
    "    accumulator /= 30 \n",
    "    \n",
    "    called_indices_no_rep = []\n",
    "    for indices in called_indices:\n",
    "        if not indices in called_indices_no_rep:\n",
    "            called_indices_no_rep.append(indices)\n",
    "    \n",
    "    \n",
    "    return accumulator, called_indices_no_rep\n",
    "\n",
    "                          \n",
    "def alpha_alpha_contribution_to_chi3(alpha1, alpha2, i, j, k, l):\n",
    "    \"\"\"\n",
    "    see Kwak 2015 Rigorous theory of molecular orientational nonlinear optics for details\n",
    "    quote: \"the <alpha alpha> class is the contribution from the anisotropic reorientation of the induced dipole moments\"\n",
    "    \"\"\"\n",
    "    coordinates = [0, 1, 2]\n",
    "    \n",
    "    #Calculate pure electronic case\n",
    "    del_fact0 = 4*delta(i, j)*delta(k, l) - delta(i, k)*delta(j, l) - delta(i, l)*delta(j, k)\n",
    "    del_fact1 = 4*delta(i, k)*delta(j, l) - delta(i, j)*delta(k, l) - delta(i, l)*delta(j, k)\n",
    "    del_fact2 = 4*delta(i, l)*delta(j, k) - delta(i, k)*delta(j, l) - delta(i, j)*delta(k, l)\n",
    "    \n",
    "    accumulator = 0\n",
    "    called_indices = []\n",
    "    for J in coordinates:\n",
    "        for K in coordinates:\n",
    "            accumulator += np.add(np.add(del_fact0*alpha1[J][J]*alpha2[K][K],\n",
    "                                         del_fact1*alpha1[J][K]*alpha2[J][K]),\n",
    "                                         del_fact2*alpha1[J][K]*alpha1[K][J])/30\n",
    "            accumulator -= alpha1[J][J]*alpha2[K][K]*delta(i, j)*delta(k, l)/9\n",
    "            called_indices.append((J,J,K,K))\n",
    "            called_indices.append((J,K,J,K))\n",
    "            called_indices.append((J,K,K,J))\n",
    "    \n",
    "    called_indices_no_rep = []\n",
    "    for indices in called_indices:\n",
    "        if not indices in called_indices_no_rep:\n",
    "            called_indices_no_rep.append(indices)\n",
    "    \n",
    "    \n",
    "    return accumulator, called_indices_no_rep\n",
    "\n",
    "def make_rot_ave_gamma_tensor(gamma):\n",
    "    gamma_ave = [[[[None for l in coordinates] for k in coordinates] for j in coordinates] for i in coordinates]\n",
    "    for i in coordinates:\n",
    "        for j in coordinates:\n",
    "            for k in coordinates:\n",
    "                for l in coordinates:\n",
    "                    gamma_ave[i][j][k][l], called_indices_no_rep = rot_ave_gamma(gamma, i, j, k, l)\n",
    "    return np.array(gamma_ave)\n",
    "\n",
    "def make_uncorrected_chi3_tensor(gamma, alpha1, alpha2):\n",
    "    gamma_ave = [[[[None for l in coordinates] for k in coordinates] for j in coordinates] for i in coordinates]\n",
    "    for i in coordinates:\n",
    "        for j in coordinates:\n",
    "            for k in coordinates:\n",
    "                for l in coordinates:\n",
    "                    gamma_temp, called_indices_no_rep = rot_ave_gamma(gamma, i, j, k, l)\n",
    "                    alpha_alpha_temp, called_indices_no_rep = alpha_alpha_contribution_to_chi3(alpha1, alpha2, i, j, k, l)\n",
    "                    gamma_ave[i][j][k][l] = gamma_temp + alpha_alpha_temp\n",
    "    return np.array(gamma_ave)\n",
    "\n",
    "def Lorentz_Lorenz_local_field_correction_NB_and_density(gamma, lambda_out, lambda_1, lambda_2, lambda_3):\n",
    "    \"\"\"\n",
    "    gamma is a 4d numpy array\n",
    "    all lambdas in microns\n",
    "    \"\"\"\n",
    "    e_0, e_1, e_2, e_3 = refractive_index_sq_of_liq_NB(lambda_out), refractive_index_sq_of_liq_NB(lambda_1), refractive_index_sq_of_liq_NB(lambda_2), refractive_index_sq_of_liq_NB(lambda_3) \n",
    "    correction = ((e_0 + 2)/3)*((e_1 + 2)/3)*((e_2 + 2)/3)*((e_3 + 2)/3)\n",
    "    return np.multiply(correction, gamma)*chi3_conversion_factor*NB_numb_density*6\n",
    "\n",
    "def display_chi3_elements(chi3_symbols, chi3_values):\n",
    "    coordinates = [0, 1, 2]\n",
    "    for i in coordinates:\n",
    "        for j in coordinates:\n",
    "            for k in coordinates:\n",
    "                for l in coordinates:\n",
    "                    display(Math(\"{0} = {1} \\\\text{{ }} \\\\text{{m}}^2 / \\\\text{{V}}^2\".format(sp.latex(chi3_symbols[i][j][k][l]), chi3_values[i][j][k][l])))\n",
    "\n",
    "def initialize_3D_4th_rank_tensor(gamma_tuples):\n",
    "    coordinates = [0, 1, 2]\n",
    "    gamma = [[[[None for l in coordinates] for k in coordinates] for j in coordinates] for i in coordinates]\n",
    "    for indices, gamma_val in gamma_tuples:\n",
    "        gamma[indices[0]][indices[1]][indices[2]][indices[3]] = gamma_val\n",
    "    return gamma\n",
    "\n",
    "def initialize_3D_alpha_matrix(alpha_tuples):\n",
    "    coordinates = [0, 1, 2]\n",
    "    alpha = [[None for j in coordinates] for i in coordinates]\n",
    "    for indices, alpha_val in alpha_tuples:\n",
    "        alpha[indices[0]][indices[1]] = alpha_val\n",
    "        alpha[indices[1]][indices[0]] = alpha_val\n",
    "    return alpha\n",
    "\n",
    "def compute_and_display_chi3_from_raw_gamma(gamma_tuples, lambda_out, lambda_1, lambda_2, lambda_3):\n",
    "    chi3_elms = sp.symbols(\"chi^(3)_x:zx:zx:zx:z\")\n",
    "    coordinates = [0, 1, 2]\n",
    "\n",
    "    # initializing chi3 symbolic tensor\n",
    "    chi3_sym = [[[[chi3_elms[27*i + 9*j + 3*k + l] for l in coordinates] for k in coordinates] for j in coordinates] for i in coordinates] \n",
    "\n",
    "    #initialize gamma NB\n",
    "    gamma = initialize_3D_4th_rank_tensor(gamma_tuples)\n",
    "\n",
    "    #initialize gamma NB rot ave\n",
    "    gamma_rot_ave = make_rot_ave_gamma_tensor(gamma)\n",
    "\n",
    "    #calculate coorections and change in units\n",
    "    chi3_rot_ave = Lorentz_Lorenz_local_field_correction_NB_and_density(gamma_rot_ave, lambda_out, lambda_1, lambda_2, lambda_3)\n",
    "\n",
    "    # display results of chi3\n",
    "    display_chi3_elements(chi3_sym, chi3_rot_ave)\n",
    "    \n",
    "    return gamma_rot_ave, chi3_rot_ave\n",
    "                          \n",
    "def compute_and_display_chi3_from_raw_gamma_alpha(gamma_tuples, alpha_tuples, lambda_out, lambda_1, lambda_2, lambda_3):\n",
    "    \"assumes all lambdas are the same\"\n",
    "    chi3_elms = sp.symbols(\"chi^(3)_x:zx:zx:zx:z\")\n",
    "    coordinates = [0, 1, 2]\n",
    "\n",
    "    # initializing chi3 symbolic tensor\n",
    "    chi3_sym = [[[[chi3_elms[27*i + 9*j + 3*k + l] for l in coordinates] for k in coordinates] for j in coordinates] for i in coordinates] \n",
    "\n",
    "    #initialize gamma\n",
    "    gamma = initialize_3D_4th_rank_tensor(gamma_tuples)\n",
    "\n",
    "    #initialize alpha\n",
    "    alpha = initialize_3D_alpha_matrix(alpha_tuples)\n",
    "\n",
    "    #make uncorrected chi3 tensor\n",
    "    chi3_uncorrected = make_uncorrected_chi3_tensor(gamma, alpha, alpha)\n",
    "\n",
    "    #calculate coorections and change in units\n",
    "    chi3_corrected= Lorentz_Lorenz_local_field_correction_NB_and_density(chi3_uncorrected, lambda_out, lambda_1, lambda_2, lambda_3)\n",
    "\n",
    "    # display results of chi3\n",
    "    display_chi3_elements(chi3_sym, chi3_corrected)\n",
    "    \n",
    "    return chi3_uncorrected, chi3_corrected\n",
    "\n"
   ]
  },
  {
   "cell_type": "code",
   "execution_count": 11,
   "metadata": {},
   "outputs": [
    {
     "name": "stdout",
     "output_type": "stream",
     "text": [
      "xxxx\n"
     ]
    },
    {
     "data": {
      "image/png": "[encoded data removed]",
      "text/latex": [
       "$$\\frac{\\gamma_{xxxx}}{5} + \\frac{\\gamma_{xxyy}}{15} + \\frac{\\gamma_{xxzz}}{15} + \\frac{\\gamma_{xyxy}}{15} + \\frac{\\gamma_{xyyx}}{15} + \\frac{\\gamma_{xzxz}}{15} + \\frac{\\gamma_{xzzx}}{15} + \\frac{\\gamma_{yxxy}}{15} + \\frac{\\gamma_{yxyx}}{15} + \\frac{\\gamma_{yyxx}}{15} + \\frac{\\gamma_{yyyy}}{5} + \\frac{\\gamma_{yyzz}}{15} + \\frac{\\gamma_{yzyz}}{15} + \\frac{\\gamma_{yzzy}}{15} + \\frac{\\gamma_{zxxz}}{15} + \\frac{\\gamma_{zxzx}}{15} + \\frac{\\gamma_{zyyz}}{15} + \\frac{\\gamma_{zyzy}}{15} + \\frac{\\gamma_{zzxx}}{15} + \\frac{\\gamma_{zzyy}}{15} + \\frac{\\gamma_{zzzz}}{5}$$"
      ],
      "text/plain": [
       "γₓₓₓₓ   γ_xxyy   γ_xxzz   γ_xyxy   γ_xyyx   γ_xzxz   γ_xzzx   γ_yxxy   γ_yxyx \n",
       "───── + ────── + ────── + ────── + ────── + ────── + ────── + ────── + ────── \n",
       "  5       15       15       15       15       15       15       15       15   \n",
       "\n",
       "  γ_yyxx   γ_yyyy   γ_yyzz   γ_yzyz   γ_yzzy   γ_zxxz   γ_zxzx   γ_zyyz   γ_zy\n",
       "+ ────── + ────── + ────── + ────── + ────── + ────── + ────── + ────── + ────\n",
       "    15       5        15       15       15       15       15       15       15\n",
       "\n",
       "zy   γ_zzxx   γ_zzyy   γ_zzzz\n",
       "── + ────── + ────── + ──────\n",
       "       15       15       5   "
      ]
     },
     "metadata": {},
     "output_type": "display_data"
    },
    {
     "data": {
      "image/png": "[encoded data removed]",
      "text/latex": [
       "$$0$$"
      ],
      "text/plain": [
       "0"
      ]
     },
     "metadata": {},
     "output_type": "display_data"
    },
    {
     "data": {
      "image/png": "[encoded data removed]",
      "text/latex": [
       "$$0$$"
      ],
      "text/plain": [
       "0"
      ]
     },
     "metadata": {},
     "output_type": "display_data"
    },
    {
     "name": "stdout",
     "output_type": "stream",
     "text": [
      "xxyy\n"
     ]
    },
    {
     "data": {
      "image/png": "[encoded data removed]",
      "text/latex": [
       "$$\\frac{\\gamma_{xxxx}}{15} + \\frac{2 \\gamma_{xxyy}}{15} + \\frac{2 \\gamma_{xxzz}}{15} - \\frac{\\gamma_{xyxy}}{30} - \\frac{\\gamma_{xyyx}}{30} - \\frac{\\gamma_{xzxz}}{30} - \\frac{\\gamma_{xzzx}}{30} - \\frac{\\gamma_{yxxy}}{30} - \\frac{\\gamma_{yxyx}}{30} + \\frac{2 \\gamma_{yyxx}}{15} + \\frac{\\gamma_{yyyy}}{15} + \\frac{2 \\gamma_{yyzz}}{15} - \\frac{\\gamma_{yzyz}}{30} - \\frac{\\gamma_{yzzy}}{30} - \\frac{\\gamma_{zxxz}}{30} - \\frac{\\gamma_{zxzx}}{30} - \\frac{\\gamma_{zyyz}}{30} - \\frac{\\gamma_{zyzy}}{30} + \\frac{2 \\gamma_{zzxx}}{15} + \\frac{2 \\gamma_{zzyy}}{15} + \\frac{\\gamma_{zzzz}}{15}$$"
      ],
      "text/plain": [
       "γₓₓₓₓ   2⋅γ_xxyy   2⋅γ_xxzz   γ_xyxy   γ_xyyx   γ_xzxz   γ_xzzx   γ_yxxy   γ_y\n",
       "───── + ──────── + ──────── - ────── - ────── - ────── - ────── - ────── - ───\n",
       "  15       15         15        30       30       30       30       30       3\n",
       "\n",
       "xyx   2⋅γ_yyxx   γ_yyyy   2⋅γ_yyzz   γ_yzyz   γ_yzzy   γ_zxxz   γ_zxzx   γ_zyy\n",
       "─── + ──────── + ────── + ──────── - ────── - ────── - ────── - ────── - ─────\n",
       "0        15        15        15        30       30       30       30       30 \n",
       "\n",
       "z   γ_zyzy   2⋅γ_zzxx   2⋅γ_zzyy   γ_zzzz\n",
       "─ - ────── + ──────── + ──────── + ──────\n",
       "      30        15         15        15  "
      ]
     },
     "metadata": {},
     "output_type": "display_data"
    },
    {
     "data": {
      "image/png": "[encoded data removed]",
      "text/latex": [
       "$$0$$"
      ],
      "text/plain": [
       "0"
      ]
     },
     "metadata": {},
     "output_type": "display_data"
    },
    {
     "data": {
      "image/png": "[encoded data removed]",
      "text/latex": [
       "$$0$$"
      ],
      "text/plain": [
       "0"
      ]
     },
     "metadata": {},
     "output_type": "display_data"
    },
    {
     "data": {
      "image/png": "[encoded data removed]",
      "text/latex": [
       "$$0$$"
      ],
      "text/plain": [
       "0"
      ]
     },
     "metadata": {},
     "output_type": "display_data"
    },
    {
     "data": {
      "image/png": "[encoded data removed]",
      "text/latex": [
       "$$0$$"
      ],
      "text/plain": [
       "0"
      ]
     },
     "metadata": {},
     "output_type": "display_data"
    },
    {
     "data": {
      "image/png": "[encoded data removed]",
      "text/latex": [
       "$$0$$"
      ],
      "text/plain": [
       "0"
      ]
     },
     "metadata": {},
     "output_type": "display_data"
    },
    {
     "name": "stdout",
     "output_type": "stream",
     "text": [
      "xyxy\n"
     ]
    },
    {
     "data": {
      "image/png": "[encoded data removed]",
      "text/latex": [
       "$$\\frac{\\gamma_{xxxx}}{15} - \\frac{\\gamma_{xxyy}}{30} - \\frac{\\gamma_{xxzz}}{30} + \\frac{2 \\gamma_{xyxy}}{15} - \\frac{\\gamma_{xyyx}}{30} + \\frac{2 \\gamma_{xzxz}}{15} - \\frac{\\gamma_{xzzx}}{30} - \\frac{\\gamma_{yxxy}}{30} + \\frac{2 \\gamma_{yxyx}}{15} - \\frac{\\gamma_{yyxx}}{30} + \\frac{\\gamma_{yyyy}}{15} - \\frac{\\gamma_{yyzz}}{30} + \\frac{2 \\gamma_{yzyz}}{15} - \\frac{\\gamma_{yzzy}}{30} - \\frac{\\gamma_{zxxz}}{30} + \\frac{2 \\gamma_{zxzx}}{15} - \\frac{\\gamma_{zyyz}}{30} + \\frac{2 \\gamma_{zyzy}}{15} - \\frac{\\gamma_{zzxx}}{30} - \\frac{\\gamma_{zzyy}}{30} + \\frac{\\gamma_{zzzz}}{15}$$"
      ],
      "text/plain": [
       "γₓₓₓₓ   γ_xxyy   γ_xxzz   2⋅γ_xyxy   γ_xyyx   2⋅γ_xzxz   γ_xzzx   γ_yxxy   2⋅γ\n",
       "───── - ────── - ────── + ──────── - ────── + ──────── - ────── - ────── + ───\n",
       "  15      30       30        15        30        15        30       30        \n",
       "\n",
       "_yxyx   γ_yyxx   γ_yyyy   γ_yyzz   2⋅γ_yzyz   γ_yzzy   γ_zxxz   2⋅γ_zxzx   γ_z\n",
       "───── - ────── + ────── - ────── + ──────── - ────── - ────── + ──────── - ───\n",
       "15        30       15       30        15        30       30        15        3\n",
       "\n",
       "yyz   2⋅γ_zyzy   γ_zzxx   γ_zzyy   γ_zzzz\n",
       "─── + ──────── - ────── - ────── + ──────\n",
       "0        15        30       30       15  "
      ]
     },
     "metadata": {},
     "output_type": "display_data"
    },
    {
     "data": {
      "image/png": "[encoded data removed]",
      "text/latex": [
       "$$0$$"
      ],
      "text/plain": [
       "0"
      ]
     },
     "metadata": {},
     "output_type": "display_data"
    },
    {
     "data": {
      "image/png": "[encoded data removed]",
      "text/latex": [
       "$$0$$"
      ],
      "text/plain": [
       "0"
      ]
     },
     "metadata": {},
     "output_type": "display_data"
    },
    {
     "data": {
      "image/png": "[encoded data removed]",
      "text/latex": [
       "$$0$$"
      ],
      "text/plain": [
       "0"
      ]
     },
     "metadata": {},
     "output_type": "display_data"
    },
    {
     "data": {
      "image/png": "[encoded data removed]",
      "text/latex": [
       "$$0$$"
      ],
      "text/plain": [
       "0"
      ]
     },
     "metadata": {},
     "output_type": "display_data"
    },
    {
     "data": {
      "image/png": "[encoded data removed]",
      "text/latex": [
       "$$0$$"
      ],
      "text/plain": [
       "0"
      ]
     },
     "metadata": {},
     "output_type": "display_data"
    },
    {
     "name": "stdout",
     "output_type": "stream",
     "text": [
      "xyyx\n"
     ]
    },
    {
     "data": {
      "image/png": "[encoded data removed]",
      "text/latex": [
       "$$\\frac{\\gamma_{xxxx}}{15} - \\frac{\\gamma_{xxyy}}{30} - \\frac{\\gamma_{xxzz}}{30} - \\frac{\\gamma_{xyxy}}{30} + \\frac{2 \\gamma_{xyyx}}{15} - \\frac{\\gamma_{xzxz}}{30} + \\frac{2 \\gamma_{xzzx}}{15} + \\frac{2 \\gamma_{yxxy}}{15} - \\frac{\\gamma_{yxyx}}{30} - \\frac{\\gamma_{yyxx}}{30} + \\frac{\\gamma_{yyyy}}{15} - \\frac{\\gamma_{yyzz}}{30} - \\frac{\\gamma_{yzyz}}{30} + \\frac{2 \\gamma_{yzzy}}{15} + \\frac{2 \\gamma_{zxxz}}{15} - \\frac{\\gamma_{zxzx}}{30} + \\frac{2 \\gamma_{zyyz}}{15} - \\frac{\\gamma_{zyzy}}{30} - \\frac{\\gamma_{zzxx}}{30} - \\frac{\\gamma_{zzyy}}{30} + \\frac{\\gamma_{zzzz}}{15}$$"
      ],
      "text/plain": [
       "γₓₓₓₓ   γ_xxyy   γ_xxzz   γ_xyxy   2⋅γ_xyyx   γ_xzxz   2⋅γ_xzzx   2⋅γ_yxxy   γ\n",
       "───── - ────── - ────── - ────── + ──────── - ────── + ──────── + ──────── - ─\n",
       "  15      30       30       30        15        30        15         15       \n",
       "\n",
       "_yxyx   γ_yyxx   γ_yyyy   γ_yyzz   γ_yzyz   2⋅γ_yzzy   2⋅γ_zxxz   γ_zxzx   2⋅γ\n",
       "───── - ────── + ────── - ────── - ────── + ──────── + ──────── - ────── + ───\n",
       " 30       30       15       30       30        15         15        30        \n",
       "\n",
       "_zyyz   γ_zyzy   γ_zzxx   γ_zzyy   γ_zzzz\n",
       "───── - ────── - ────── - ────── + ──────\n",
       "15        30       30       30       15  "
      ]
     },
     "metadata": {},
     "output_type": "display_data"
    },
    {
     "data": {
      "image/png": "[encoded data removed]",
      "text/latex": [
       "$$0$$"
      ],
      "text/plain": [
       "0"
      ]
     },
     "metadata": {},
     "output_type": "display_data"
    },
    {
     "data": {
      "image/png": "[encoded data removed]",
      "text/latex": [
       "$$0$$"
      ],
      "text/plain": [
       "0"
      ]
     },
     "metadata": {},
     "output_type": "display_data"
    },
    {
     "data": {
      "image/png": "[encoded data removed]",
      "text/latex": [
       "$$0$$"
      ],
      "text/plain": [
       "0"
      ]
     },
     "metadata": {},
     "output_type": "display_data"
    },
    {
     "data": {
      "image/png": "[encoded data removed]",
      "text/latex": [
       "$$0$$"
      ],
      "text/plain": [
       "0"
      ]
     },
     "metadata": {},
     "output_type": "display_data"
    },
    {
     "data": {
      "image/png": "[encoded data removed]",
      "text/latex": [
       "$$0$$"
      ],
      "text/plain": [
       "0"
      ]
     },
     "metadata": {},
     "output_type": "display_data"
    },
    {
     "name": "stdout",
     "output_type": "stream",
     "text": [
      "not equals\n"
     ]
    },
    {
     "data": {
      "image/png": "[encoded data removed]",
      "text/latex": [
       "$$- \\frac{\\gamma_{xyxy}}{6} + \\frac{\\gamma_{xyyx}}{6} - \\frac{\\gamma_{xzxz}}{6} + \\frac{\\gamma_{xzzx}}{6} + \\frac{\\gamma_{yxxy}}{6} - \\frac{\\gamma_{yxyx}}{6} - \\frac{\\gamma_{yzyz}}{6} + \\frac{\\gamma_{yzzy}}{6} + \\frac{\\gamma_{zxxz}}{6} - \\frac{\\gamma_{zxzx}}{6} + \\frac{\\gamma_{zyyz}}{6} - \\frac{\\gamma_{zyzy}}{6}$$"
      ],
      "text/plain": [
       "  γ_xyxy   γ_xyyx   γ_xzxz   γ_xzzx   γ_yxxy   γ_yxyx   γ_yzyz   γ_yzzy   γ_zx\n",
       "- ────── + ────── - ────── + ────── + ────── - ────── - ────── + ────── + ────\n",
       "    6        6        6        6        6        6        6        6        6 \n",
       "\n",
       "xz   γ_zxzx   γ_zyyz   γ_zyzy\n",
       "── - ────── + ────── - ──────\n",
       "       6        6        6   "
      ]
     },
     "metadata": {},
     "output_type": "display_data"
    },
    {
     "data": {
      "image/png": "[encoded data removed]",
      "text/latex": [
       "$$- \\frac{\\gamma_{xxyy}}{6} - \\frac{\\gamma_{xxzz}}{6} + \\frac{\\gamma_{xyxy}}{6} + \\frac{\\gamma_{xzxz}}{6} + \\frac{\\gamma_{yxyx}}{6} - \\frac{\\gamma_{yyxx}}{6} - \\frac{\\gamma_{yyzz}}{6} + \\frac{\\gamma_{yzyz}}{6} + \\frac{\\gamma_{zxzx}}{6} + \\frac{\\gamma_{zyzy}}{6} - \\frac{\\gamma_{zzxx}}{6} - \\frac{\\gamma_{zzyy}}{6}$$"
      ],
      "text/plain": [
       "  γ_xxyy   γ_xxzz   γ_xyxy   γ_xzxz   γ_yxyx   γ_yyxx   γ_yyzz   γ_yzyz   γ_zx\n",
       "- ────── - ────── + ────── + ────── + ────── - ────── - ────── + ────── + ────\n",
       "    6        6        6        6        6        6        6        6        6 \n",
       "\n",
       "zx   γ_zyzy   γ_zzxx   γ_zzyy\n",
       "── + ────── - ────── - ──────\n",
       "       6        6        6   "
      ]
     },
     "metadata": {},
     "output_type": "display_data"
    },
    {
     "data": {
      "image/png": "[encoded data removed]",
      "text/latex": [
       "$$- \\frac{2 \\gamma_{xxxx}}{15} + \\frac{\\gamma_{xxyy}}{15} + \\frac{\\gamma_{xxzz}}{15} - \\frac{\\gamma_{xyxy}}{10} - \\frac{\\gamma_{xyyx}}{10} - \\frac{\\gamma_{xzxz}}{10} - \\frac{\\gamma_{xzzx}}{10} - \\frac{\\gamma_{yxxy}}{10} - \\frac{\\gamma_{yxyx}}{10} + \\frac{\\gamma_{yyxx}}{15} - \\frac{2 \\gamma_{yyyy}}{15} + \\frac{\\gamma_{yyzz}}{15} - \\frac{\\gamma_{yzyz}}{10} - \\frac{\\gamma_{yzzy}}{10} - \\frac{\\gamma_{zxxz}}{10} - \\frac{\\gamma_{zxzx}}{10} - \\frac{\\gamma_{zyyz}}{10} - \\frac{\\gamma_{zyzy}}{10} + \\frac{\\gamma_{zzxx}}{15} + \\frac{\\gamma_{zzyy}}{15} - \\frac{2 \\gamma_{zzzz}}{15}$$"
      ],
      "text/plain": [
       "  2⋅γₓₓₓₓ   γ_xxyy   γ_xxzz   γ_xyxy   γ_xyyx   γ_xzxz   γ_xzzx   γ_yxxy   γ_y\n",
       "- ─────── + ────── + ────── - ────── - ────── - ────── - ────── - ────── - ───\n",
       "     15       15       15       10       10       10       10       10       1\n",
       "\n",
       "xyx   γ_yyxx   2⋅γ_yyyy   γ_yyzz   γ_yzyz   γ_yzzy   γ_zxxz   γ_zxzx   γ_zyyz \n",
       "─── + ────── - ──────── + ────── - ────── - ────── - ────── - ────── - ────── \n",
       "0       15        15        15       10       10       10       10       10   \n",
       "\n",
       "  γ_zyzy   γ_zzxx   γ_zzyy   2⋅γ_zzzz\n",
       "- ────── + ────── + ────── - ────────\n",
       "    10       15       15        15   "
      ]
     },
     "metadata": {},
     "output_type": "display_data"
    },
    {
     "name": "stdout",
     "output_type": "stream",
     "text": [
      "funky equals\n"
     ]
    },
    {
     "data": {
      "image/png": "[encoded data removed]",
      "text/latex": [
       "$$0$$"
      ],
      "text/plain": [
       "0"
      ]
     },
     "metadata": {},
     "output_type": "display_data"
    }
   ],
   "source": [
    "#This cell checks that gamma is well defined and that the rotationally averaged gamma obeys expected symetry rules\n",
    "#also prints a list of the gamma indices used in calculating the rotationally averaged values\n",
    "\n",
    "gamma_elms = sp.symbols(\"gamma_x:zx:zx:zx:z\")\n",
    "# display(len(gamma_elms))\n",
    "# display(gamma_elms)\n",
    "coordinates = [0, 1, 2]\n",
    "\n",
    "chi3_elms = sp.symbols(\"chi^(3)_x:zx:zx:zx:z\")\n",
    "coordinates = [0, 1, 2]\n",
    "\n",
    "# initializing chi3 symbolic tensor\n",
    "chi3_sym = [[[[chi3_elms[27*i + 9*j + 3*k + l] for l in coordinates] for k in coordinates] for j in coordinates] for i in coordinates] \n",
    "\n",
    "# initializing gamma and final tensor\n",
    "gamma_sym = [[[[gamma_elms[27*i + 9*j + 3*k + l] for l in coordinates] for k in coordinates] for j in coordinates] for i in coordinates] \n",
    "gamma_ave = [[[[0 for l in coordinates] for k in coordinates] for j in coordinates] for i in coordinates]\n",
    "\n",
    "#check gamma\n",
    "gamma_list = []\n",
    "for i in coordinates:\n",
    "    for j in coordinates:\n",
    "        for k in coordinates:\n",
    "            for l in coordinates:\n",
    "                gamma_list.append(gamma_sym[i][j][k][l])\n",
    "#display(gamma_list)\n",
    "\n",
    "#calculate rotational ave-d gamma\n",
    "for i in coordinates:\n",
    "    for j in coordinates:\n",
    "        for k in coordinates:\n",
    "            for l in coordinates:\n",
    "                gamma_ave[i][j][k][l], called_indices_no_rep = rot_ave_gamma(gamma_sym, i, j, k, l)\n",
    "#display(called_indices_no_rep)\n",
    "#display(len(called_indices_no_rep))\n",
    "                \n",
    "#check gamma_ave\n",
    "gamma_list = []\n",
    "for i in coordinates:\n",
    "    for j in coordinates:\n",
    "        for k in coordinates:\n",
    "            for l in coordinates:\n",
    "                gamma_list.append(gamma_ave[i][j][k][l])\n",
    "#display(gamma_list)\n",
    "\n",
    "# symbolic checks\n",
    "print(\"xxxx\")\n",
    "display(gamma_ave[0][0][0][0])\n",
    "display(gamma_ave[0][0][0][0] - gamma_ave[1][1][1][1])\n",
    "display(gamma_ave[0][0][0][0] - gamma_ave[2][2][2][2])\n",
    "\n",
    "print(\"xxyy\")\n",
    "display(gamma_ave[0][0][1][1])\n",
    "display(gamma_ave[0][0][1][1] - gamma_ave[0][0][2][2])\n",
    "display(gamma_ave[0][0][1][1] - gamma_ave[1][1][0][0])\n",
    "display(gamma_ave[0][0][1][1] - gamma_ave[1][1][2][2])\n",
    "display(gamma_ave[0][0][1][1] - gamma_ave[2][2][0][0])\n",
    "display(gamma_ave[0][0][1][1] - gamma_ave[2][2][1][1])\n",
    "\n",
    "print(\"xyxy\")\n",
    "display(gamma_ave[0][1][0][1])\n",
    "display(gamma_ave[0][1][0][1] - gamma_ave[0][2][0][2])\n",
    "display(gamma_ave[0][1][0][1] - gamma_ave[1][2][1][2])\n",
    "display(gamma_ave[0][1][0][1] - gamma_ave[1][0][1][0])\n",
    "display(gamma_ave[0][1][0][1] - gamma_ave[2][0][2][0])\n",
    "display(gamma_ave[0][1][0][1] - gamma_ave[2][1][2][1])\n",
    "\n",
    "print(\"xyyx\")\n",
    "display(gamma_ave[0][1][1][0])\n",
    "display(gamma_ave[0][1][1][0] - gamma_ave[0][2][2][0])\n",
    "display(gamma_ave[0][1][1][0] - gamma_ave[1][0][0][1])\n",
    "display(gamma_ave[0][1][1][0] - gamma_ave[1][2][2][1])\n",
    "display(gamma_ave[0][1][1][0] - gamma_ave[2][0][0][2])\n",
    "display(gamma_ave[0][1][1][0] - gamma_ave[2][1][1][2])\n",
    "\n",
    "print(\"not equals\")\n",
    "display(gamma_ave[0][1][1][0] - gamma_ave[0][1][0][1])\n",
    "display(gamma_ave[0][1][0][1] - gamma_ave[0][0][1][1])\n",
    "display(gamma_ave[0][0][1][1] -  gamma_ave[0][0][0][0])\n",
    "\n",
    "print(\"funky equals\")\n",
    "display(gamma_ave[0][0][0][0] - gamma_ave[0][1][1][0] - gamma_ave[0][1][0][1] - gamma_ave[0][0][1][1])\n"
   ]
  },
  {
   "cell_type": "code",
   "execution_count": 12,
   "metadata": {
    "scrolled": false
   },
   "outputs": [
    {
     "name": "stdout",
     "output_type": "stream",
     "text": [
      "Electronic\n"
     ]
    },
    {
     "data": {
      "text/latex": [
       "$\\displaystyle \\chi^{(3)}_{xxxx} = 2.9084731207615323e-20 \\text{ } \\text{m}^2 / \\text{V}^2$"
      ],
      "text/plain": [
       "<IPython.core.display.Math object>"
      ]
     },
     "metadata": {},
     "output_type": "display_data"
    },
    {
     "data": {
      "text/latex": [
       "$\\displaystyle \\chi^{(3)}_{xxxy} = 0.0 \\text{ } \\text{m}^2 / \\text{V}^2$"
      ],
      "text/plain": [
       "<IPython.core.display.Math object>"
      ]
     },
     "metadata": {},
     "output_type": "display_data"
    },
    {
     "data": {
      "text/latex": [
       "$\\displaystyle \\chi^{(3)}_{xxxz} = 0.0 \\text{ } \\text{m}^2 / \\text{V}^2$"
      ],
      "text/plain": [
       "<IPython.core.display.Math object>"
      ]
     },
     "metadata": {},
     "output_type": "display_data"
    },
    {
     "data": {
      "text/latex": [
       "$\\displaystyle \\chi^{(3)}_{xxyx} = 0.0 \\text{ } \\text{m}^2 / \\text{V}^2$"
      ],
      "text/plain": [
       "<IPython.core.display.Math object>"
      ]
     },
     "metadata": {},
     "output_type": "display_data"
    },
    {
     "data": {
      "text/latex": [
       "$\\displaystyle \\chi^{(3)}_{xxyy} = 1.0160939716412883e-20 \\text{ } \\text{m}^2 / \\text{V}^2$"
      ],
      "text/plain": [
       "<IPython.core.display.Math object>"
      ]
     },
     "metadata": {},
     "output_type": "display_data"
    },
    {
     "data": {
      "text/latex": [
       "$\\displaystyle \\chi^{(3)}_{xxyz} = 0.0 \\text{ } \\text{m}^2 / \\text{V}^2$"
      ],
      "text/plain": [
       "<IPython.core.display.Math object>"
      ]
     },
     "metadata": {},
     "output_type": "display_data"
    },
    {
     "data": {
      "text/latex": [
       "$\\displaystyle \\chi^{(3)}_{xxzx} = 0.0 \\text{ } \\text{m}^2 / \\text{V}^2$"
      ],
      "text/plain": [
       "<IPython.core.display.Math object>"
      ]
     },
     "metadata": {},
     "output_type": "display_data"
    },
    {
     "data": {
      "text/latex": [
       "$\\displaystyle \\chi^{(3)}_{xxzy} = 0.0 \\text{ } \\text{m}^2 / \\text{V}^2$"
      ],
      "text/plain": [
       "<IPython.core.display.Math object>"
      ]
     },
     "metadata": {},
     "output_type": "display_data"
    },
    {
     "data": {
      "text/latex": [
       "$\\displaystyle \\chi^{(3)}_{xxzz} = 1.0160939716412883e-20 \\text{ } \\text{m}^2 / \\text{V}^2$"
      ],
      "text/plain": [
       "<IPython.core.display.Math object>"
      ]
     },
     "metadata": {},
     "output_type": "display_data"
    },
    {
     "data": {
      "text/latex": [
       "$\\displaystyle \\chi^{(3)}_{xyxx} = 0.0 \\text{ } \\text{m}^2 / \\text{V}^2$"
      ],
      "text/plain": [
       "<IPython.core.display.Math object>"
      ]
     },
     "metadata": {},
     "output_type": "display_data"
    },
    {
     "data": {
      "text/latex": [
       "$\\displaystyle \\chi^{(3)}_{xyxy} = 8.762851774789568e-21 \\text{ } \\text{m}^2 / \\text{V}^2$"
      ],
      "text/plain": [
       "<IPython.core.display.Math object>"
      ]
     },
     "metadata": {},
     "output_type": "display_data"
    },
    {
     "data": {
      "text/latex": [
       "$\\displaystyle \\chi^{(3)}_{xyxz} = 0.0 \\text{ } \\text{m}^2 / \\text{V}^2$"
      ],
      "text/plain": [
       "<IPython.core.display.Math object>"
      ]
     },
     "metadata": {},
     "output_type": "display_data"
    },
    {
     "data": {
      "text/latex": [
       "$\\displaystyle \\chi^{(3)}_{xyyx} = 1.0160939716412883e-20 \\text{ } \\text{m}^2 / \\text{V}^2$"
      ],
      "text/plain": [
       "<IPython.core.display.Math object>"
      ]
     },
     "metadata": {},
     "output_type": "display_data"
    },
    {
     "data": {
      "text/latex": [
       "$\\displaystyle \\chi^{(3)}_{xyyy} = 0.0 \\text{ } \\text{m}^2 / \\text{V}^2$"
      ],
      "text/plain": [
       "<IPython.core.display.Math object>"
      ]
     },
     "metadata": {},
     "output_type": "display_data"
    },
    {
     "data": {
      "text/latex": [
       "$\\displaystyle \\chi^{(3)}_{xyyz} = 0.0 \\text{ } \\text{m}^2 / \\text{V}^2$"
      ],
      "text/plain": [
       "<IPython.core.display.Math object>"
      ]
     },
     "metadata": {},
     "output_type": "display_data"
    },
    {
     "data": {
      "text/latex": [
       "$\\displaystyle \\chi^{(3)}_{xyzx} = 0.0 \\text{ } \\text{m}^2 / \\text{V}^2$"
      ],
      "text/plain": [
       "<IPython.core.display.Math object>"
      ]
     },
     "metadata": {},
     "output_type": "display_data"
    },
    {
     "data": {
      "text/latex": [
       "$\\displaystyle \\chi^{(3)}_{xyzy} = 0.0 \\text{ } \\text{m}^2 / \\text{V}^2$"
      ],
      "text/plain": [
       "<IPython.core.display.Math object>"
      ]
     },
     "metadata": {},
     "output_type": "display_data"
    },
    {
     "data": {
      "text/latex": [
       "$\\displaystyle \\chi^{(3)}_{xyzz} = 0.0 \\text{ } \\text{m}^2 / \\text{V}^2$"
      ],
      "text/plain": [
       "<IPython.core.display.Math object>"
      ]
     },
     "metadata": {},
     "output_type": "display_data"
    },
    {
     "data": {
      "text/latex": [
       "$\\displaystyle \\chi^{(3)}_{xzxx} = 0.0 \\text{ } \\text{m}^2 / \\text{V}^2$"
      ],
      "text/plain": [
       "<IPython.core.display.Math object>"
      ]
     },
     "metadata": {},
     "output_type": "display_data"
    },
    {
     "data": {
      "text/latex": [
       "$\\displaystyle \\chi^{(3)}_{xzxy} = 0.0 \\text{ } \\text{m}^2 / \\text{V}^2$"
      ],
      "text/plain": [
       "<IPython.core.display.Math object>"
      ]
     },
     "metadata": {},
     "output_type": "display_data"
    },
    {
     "data": {
      "text/latex": [
       "$\\displaystyle \\chi^{(3)}_{xzxz} = 8.762851774789568e-21 \\text{ } \\text{m}^2 / \\text{V}^2$"
      ],
      "text/plain": [
       "<IPython.core.display.Math object>"
      ]
     },
     "metadata": {},
     "output_type": "display_data"
    },
    {
     "data": {
      "text/latex": [
       "$\\displaystyle \\chi^{(3)}_{xzyx} = 0.0 \\text{ } \\text{m}^2 / \\text{V}^2$"
      ],
      "text/plain": [
       "<IPython.core.display.Math object>"
      ]
     },
     "metadata": {},
     "output_type": "display_data"
    },
    {
     "data": {
      "text/latex": [
       "$\\displaystyle \\chi^{(3)}_{xzyy} = 0.0 \\text{ } \\text{m}^2 / \\text{V}^2$"
      ],
      "text/plain": [
       "<IPython.core.display.Math object>"
      ]
     },
     "metadata": {},
     "output_type": "display_data"
    },
    {
     "data": {
      "text/latex": [
       "$\\displaystyle \\chi^{(3)}_{xzyz} = 0.0 \\text{ } \\text{m}^2 / \\text{V}^2$"
      ],
      "text/plain": [
       "<IPython.core.display.Math object>"
      ]
     },
     "metadata": {},
     "output_type": "display_data"
    },
    {
     "data": {
      "text/latex": [
       "$\\displaystyle \\chi^{(3)}_{xzzx} = 1.0160939716412883e-20 \\text{ } \\text{m}^2 / \\text{V}^2$"
      ],
      "text/plain": [
       "<IPython.core.display.Math object>"
      ]
     },
     "metadata": {},
     "output_type": "display_data"
    },
    {
     "data": {
      "text/latex": [
       "$\\displaystyle \\chi^{(3)}_{xzzy} = 0.0 \\text{ } \\text{m}^2 / \\text{V}^2$"
      ],
      "text/plain": [
       "<IPython.core.display.Math object>"
      ]
     },
     "metadata": {},
     "output_type": "display_data"
    },
    {
     "data": {
      "text/latex": [
       "$\\displaystyle \\chi^{(3)}_{xzzz} = 0.0 \\text{ } \\text{m}^2 / \\text{V}^2$"
      ],
      "text/plain": [
       "<IPython.core.display.Math object>"
      ]
     },
     "metadata": {},
     "output_type": "display_data"
    },
    {
     "data": {
      "text/latex": [
       "$\\displaystyle \\chi^{(3)}_{yxxx} = 0.0 \\text{ } \\text{m}^2 / \\text{V}^2$"
      ],
      "text/plain": [
       "<IPython.core.display.Math object>"
      ]
     },
     "metadata": {},
     "output_type": "display_data"
    },
    {
     "data": {
      "text/latex": [
       "$\\displaystyle \\chi^{(3)}_{yxxy} = 1.0160939716412883e-20 \\text{ } \\text{m}^2 / \\text{V}^2$"
      ],
      "text/plain": [
       "<IPython.core.display.Math object>"
      ]
     },
     "metadata": {},
     "output_type": "display_data"
    },
    {
     "data": {
      "text/latex": [
       "$\\displaystyle \\chi^{(3)}_{yxxz} = 0.0 \\text{ } \\text{m}^2 / \\text{V}^2$"
      ],
      "text/plain": [
       "<IPython.core.display.Math object>"
      ]
     },
     "metadata": {},
     "output_type": "display_data"
    },
    {
     "data": {
      "text/latex": [
       "$\\displaystyle \\chi^{(3)}_{yxyx} = 8.762851774789568e-21 \\text{ } \\text{m}^2 / \\text{V}^2$"
      ],
      "text/plain": [
       "<IPython.core.display.Math object>"
      ]
     },
     "metadata": {},
     "output_type": "display_data"
    },
    {
     "data": {
      "text/latex": [
       "$\\displaystyle \\chi^{(3)}_{yxyy} = 0.0 \\text{ } \\text{m}^2 / \\text{V}^2$"
      ],
      "text/plain": [
       "<IPython.core.display.Math object>"
      ]
     },
     "metadata": {},
     "output_type": "display_data"
    },
    {
     "data": {
      "text/latex": [
       "$\\displaystyle \\chi^{(3)}_{yxyz} = 0.0 \\text{ } \\text{m}^2 / \\text{V}^2$"
      ],
      "text/plain": [
       "<IPython.core.display.Math object>"
      ]
     },
     "metadata": {},
     "output_type": "display_data"
    },
    {
     "data": {
      "text/latex": [
       "$\\displaystyle \\chi^{(3)}_{yxzx} = 0.0 \\text{ } \\text{m}^2 / \\text{V}^2$"
      ],
      "text/plain": [
       "<IPython.core.display.Math object>"
      ]
     },
     "metadata": {},
     "output_type": "display_data"
    },
    {
     "data": {
      "text/latex": [
       "$\\displaystyle \\chi^{(3)}_{yxzy} = 0.0 \\text{ } \\text{m}^2 / \\text{V}^2$"
      ],
      "text/plain": [
       "<IPython.core.display.Math object>"
      ]
     },
     "metadata": {},
     "output_type": "display_data"
    },
    {
     "data": {
      "text/latex": [
       "$\\displaystyle \\chi^{(3)}_{yxzz} = 0.0 \\text{ } \\text{m}^2 / \\text{V}^2$"
      ],
      "text/plain": [
       "<IPython.core.display.Math object>"
      ]
     },
     "metadata": {},
     "output_type": "display_data"
    },
    {
     "data": {
      "text/latex": [
       "$\\displaystyle \\chi^{(3)}_{yyxx} = 1.0160939716412883e-20 \\text{ } \\text{m}^2 / \\text{V}^2$"
      ],
      "text/plain": [
       "<IPython.core.display.Math object>"
      ]
     },
     "metadata": {},
     "output_type": "display_data"
    },
    {
     "data": {
      "text/latex": [
       "$\\displaystyle \\chi^{(3)}_{yyxy} = 0.0 \\text{ } \\text{m}^2 / \\text{V}^2$"
      ],
      "text/plain": [
       "<IPython.core.display.Math object>"
      ]
     },
     "metadata": {},
     "output_type": "display_data"
    },
    {
     "data": {
      "text/latex": [
       "$\\displaystyle \\chi^{(3)}_{yyxz} = 0.0 \\text{ } \\text{m}^2 / \\text{V}^2$"
      ],
      "text/plain": [
       "<IPython.core.display.Math object>"
      ]
     },
     "metadata": {},
     "output_type": "display_data"
    },
    {
     "data": {
      "text/latex": [
       "$\\displaystyle \\chi^{(3)}_{yyyx} = 0.0 \\text{ } \\text{m}^2 / \\text{V}^2$"
      ],
      "text/plain": [
       "<IPython.core.display.Math object>"
      ]
     },
     "metadata": {},
     "output_type": "display_data"
    },
    {
     "data": {
      "text/latex": [
       "$\\displaystyle \\chi^{(3)}_{yyyy} = 2.9084731207615323e-20 \\text{ } \\text{m}^2 / \\text{V}^2$"
      ],
      "text/plain": [
       "<IPython.core.display.Math object>"
      ]
     },
     "metadata": {},
     "output_type": "display_data"
    },
    {
     "data": {
      "text/latex": [
       "$\\displaystyle \\chi^{(3)}_{yyyz} = 0.0 \\text{ } \\text{m}^2 / \\text{V}^2$"
      ],
      "text/plain": [
       "<IPython.core.display.Math object>"
      ]
     },
     "metadata": {},
     "output_type": "display_data"
    },
    {
     "data": {
      "text/latex": [
       "$\\displaystyle \\chi^{(3)}_{yyzx} = 0.0 \\text{ } \\text{m}^2 / \\text{V}^2$"
      ],
      "text/plain": [
       "<IPython.core.display.Math object>"
      ]
     },
     "metadata": {},
     "output_type": "display_data"
    },
    {
     "data": {
      "text/latex": [
       "$\\displaystyle \\chi^{(3)}_{yyzy} = 0.0 \\text{ } \\text{m}^2 / \\text{V}^2$"
      ],
      "text/plain": [
       "<IPython.core.display.Math object>"
      ]
     },
     "metadata": {},
     "output_type": "display_data"
    },
    {
     "data": {
      "text/latex": [
       "$\\displaystyle \\chi^{(3)}_{yyzz} = 1.0160939716412883e-20 \\text{ } \\text{m}^2 / \\text{V}^2$"
      ],
      "text/plain": [
       "<IPython.core.display.Math object>"
      ]
     },
     "metadata": {},
     "output_type": "display_data"
    },
    {
     "data": {
      "text/latex": [
       "$\\displaystyle \\chi^{(3)}_{yzxx} = 0.0 \\text{ } \\text{m}^2 / \\text{V}^2$"
      ],
      "text/plain": [
       "<IPython.core.display.Math object>"
      ]
     },
     "metadata": {},
     "output_type": "display_data"
    },
    {
     "data": {
      "text/latex": [
       "$\\displaystyle \\chi^{(3)}_{yzxy} = 0.0 \\text{ } \\text{m}^2 / \\text{V}^2$"
      ],
      "text/plain": [
       "<IPython.core.display.Math object>"
      ]
     },
     "metadata": {},
     "output_type": "display_data"
    },
    {
     "data": {
      "text/latex": [
       "$\\displaystyle \\chi^{(3)}_{yzxz} = 0.0 \\text{ } \\text{m}^2 / \\text{V}^2$"
      ],
      "text/plain": [
       "<IPython.core.display.Math object>"
      ]
     },
     "metadata": {},
     "output_type": "display_data"
    },
    {
     "data": {
      "text/latex": [
       "$\\displaystyle \\chi^{(3)}_{yzyx} = 0.0 \\text{ } \\text{m}^2 / \\text{V}^2$"
      ],
      "text/plain": [
       "<IPython.core.display.Math object>"
      ]
     },
     "metadata": {},
     "output_type": "display_data"
    },
    {
     "data": {
      "text/latex": [
       "$\\displaystyle \\chi^{(3)}_{yzyy} = 0.0 \\text{ } \\text{m}^2 / \\text{V}^2$"
      ],
      "text/plain": [
       "<IPython.core.display.Math object>"
      ]
     },
     "metadata": {},
     "output_type": "display_data"
    },
    {
     "data": {
      "text/latex": [
       "$\\displaystyle \\chi^{(3)}_{yzyz} = 8.762851774789568e-21 \\text{ } \\text{m}^2 / \\text{V}^2$"
      ],
      "text/plain": [
       "<IPython.core.display.Math object>"
      ]
     },
     "metadata": {},
     "output_type": "display_data"
    },
    {
     "data": {
      "text/latex": [
       "$\\displaystyle \\chi^{(3)}_{yzzx} = 0.0 \\text{ } \\text{m}^2 / \\text{V}^2$"
      ],
      "text/plain": [
       "<IPython.core.display.Math object>"
      ]
     },
     "metadata": {},
     "output_type": "display_data"
    },
    {
     "data": {
      "text/latex": [
       "$\\displaystyle \\chi^{(3)}_{yzzy} = 1.0160939716412883e-20 \\text{ } \\text{m}^2 / \\text{V}^2$"
      ],
      "text/plain": [
       "<IPython.core.display.Math object>"
      ]
     },
     "metadata": {},
     "output_type": "display_data"
    },
    {
     "data": {
      "text/latex": [
       "$\\displaystyle \\chi^{(3)}_{yzzz} = 0.0 \\text{ } \\text{m}^2 / \\text{V}^2$"
      ],
      "text/plain": [
       "<IPython.core.display.Math object>"
      ]
     },
     "metadata": {},
     "output_type": "display_data"
    },
    {
     "data": {
      "text/latex": [
       "$\\displaystyle \\chi^{(3)}_{zxxx} = 0.0 \\text{ } \\text{m}^2 / \\text{V}^2$"
      ],
      "text/plain": [
       "<IPython.core.display.Math object>"
      ]
     },
     "metadata": {},
     "output_type": "display_data"
    },
    {
     "data": {
      "text/latex": [
       "$\\displaystyle \\chi^{(3)}_{zxxy} = 0.0 \\text{ } \\text{m}^2 / \\text{V}^2$"
      ],
      "text/plain": [
       "<IPython.core.display.Math object>"
      ]
     },
     "metadata": {},
     "output_type": "display_data"
    },
    {
     "data": {
      "text/latex": [
       "$\\displaystyle \\chi^{(3)}_{zxxz} = 1.0160939716412883e-20 \\text{ } \\text{m}^2 / \\text{V}^2$"
      ],
      "text/plain": [
       "<IPython.core.display.Math object>"
      ]
     },
     "metadata": {},
     "output_type": "display_data"
    },
    {
     "data": {
      "text/latex": [
       "$\\displaystyle \\chi^{(3)}_{zxyx} = 0.0 \\text{ } \\text{m}^2 / \\text{V}^2$"
      ],
      "text/plain": [
       "<IPython.core.display.Math object>"
      ]
     },
     "metadata": {},
     "output_type": "display_data"
    },
    {
     "data": {
      "text/latex": [
       "$\\displaystyle \\chi^{(3)}_{zxyy} = 0.0 \\text{ } \\text{m}^2 / \\text{V}^2$"
      ],
      "text/plain": [
       "<IPython.core.display.Math object>"
      ]
     },
     "metadata": {},
     "output_type": "display_data"
    },
    {
     "data": {
      "text/latex": [
       "$\\displaystyle \\chi^{(3)}_{zxyz} = 0.0 \\text{ } \\text{m}^2 / \\text{V}^2$"
      ],
      "text/plain": [
       "<IPython.core.display.Math object>"
      ]
     },
     "metadata": {},
     "output_type": "display_data"
    },
    {
     "data": {
      "text/latex": [
       "$\\displaystyle \\chi^{(3)}_{zxzx} = 8.762851774789568e-21 \\text{ } \\text{m}^2 / \\text{V}^2$"
      ],
      "text/plain": [
       "<IPython.core.display.Math object>"
      ]
     },
     "metadata": {},
     "output_type": "display_data"
    },
    {
     "data": {
      "text/latex": [
       "$\\displaystyle \\chi^{(3)}_{zxzy} = 0.0 \\text{ } \\text{m}^2 / \\text{V}^2$"
      ],
      "text/plain": [
       "<IPython.core.display.Math object>"
      ]
     },
     "metadata": {},
     "output_type": "display_data"
    },
    {
     "data": {
      "text/latex": [
       "$\\displaystyle \\chi^{(3)}_{zxzz} = 0.0 \\text{ } \\text{m}^2 / \\text{V}^2$"
      ],
      "text/plain": [
       "<IPython.core.display.Math object>"
      ]
     },
     "metadata": {},
     "output_type": "display_data"
    },
    {
     "data": {
      "text/latex": [
       "$\\displaystyle \\chi^{(3)}_{zyxx} = 0.0 \\text{ } \\text{m}^2 / \\text{V}^2$"
      ],
      "text/plain": [
       "<IPython.core.display.Math object>"
      ]
     },
     "metadata": {},
     "output_type": "display_data"
    },
    {
     "data": {
      "text/latex": [
       "$\\displaystyle \\chi^{(3)}_{zyxy} = 0.0 \\text{ } \\text{m}^2 / \\text{V}^2$"
      ],
      "text/plain": [
       "<IPython.core.display.Math object>"
      ]
     },
     "metadata": {},
     "output_type": "display_data"
    },
    {
     "data": {
      "text/latex": [
       "$\\displaystyle \\chi^{(3)}_{zyxz} = 0.0 \\text{ } \\text{m}^2 / \\text{V}^2$"
      ],
      "text/plain": [
       "<IPython.core.display.Math object>"
      ]
     },
     "metadata": {},
     "output_type": "display_data"
    },
    {
     "data": {
      "text/latex": [
       "$\\displaystyle \\chi^{(3)}_{zyyx} = 0.0 \\text{ } \\text{m}^2 / \\text{V}^2$"
      ],
      "text/plain": [
       "<IPython.core.display.Math object>"
      ]
     },
     "metadata": {},
     "output_type": "display_data"
    },
    {
     "data": {
      "text/latex": [
       "$\\displaystyle \\chi^{(3)}_{zyyy} = 0.0 \\text{ } \\text{m}^2 / \\text{V}^2$"
      ],
      "text/plain": [
       "<IPython.core.display.Math object>"
      ]
     },
     "metadata": {},
     "output_type": "display_data"
    },
    {
     "data": {
      "text/latex": [
       "$\\displaystyle \\chi^{(3)}_{zyyz} = 1.0160939716412883e-20 \\text{ } \\text{m}^2 / \\text{V}^2$"
      ],
      "text/plain": [
       "<IPython.core.display.Math object>"
      ]
     },
     "metadata": {},
     "output_type": "display_data"
    },
    {
     "data": {
      "text/latex": [
       "$\\displaystyle \\chi^{(3)}_{zyzx} = 0.0 \\text{ } \\text{m}^2 / \\text{V}^2$"
      ],
      "text/plain": [
       "<IPython.core.display.Math object>"
      ]
     },
     "metadata": {},
     "output_type": "display_data"
    },
    {
     "data": {
      "text/latex": [
       "$\\displaystyle \\chi^{(3)}_{zyzy} = 8.762851774789568e-21 \\text{ } \\text{m}^2 / \\text{V}^2$"
      ],
      "text/plain": [
       "<IPython.core.display.Math object>"
      ]
     },
     "metadata": {},
     "output_type": "display_data"
    },
    {
     "data": {
      "text/latex": [
       "$\\displaystyle \\chi^{(3)}_{zyzz} = 0.0 \\text{ } \\text{m}^2 / \\text{V}^2$"
      ],
      "text/plain": [
       "<IPython.core.display.Math object>"
      ]
     },
     "metadata": {},
     "output_type": "display_data"
    },
    {
     "data": {
      "text/latex": [
       "$\\displaystyle \\chi^{(3)}_{zzxx} = 1.0160939716412883e-20 \\text{ } \\text{m}^2 / \\text{V}^2$"
      ],
      "text/plain": [
       "<IPython.core.display.Math object>"
      ]
     },
     "metadata": {},
     "output_type": "display_data"
    },
    {
     "data": {
      "text/latex": [
       "$\\displaystyle \\chi^{(3)}_{zzxy} = 0.0 \\text{ } \\text{m}^2 / \\text{V}^2$"
      ],
      "text/plain": [
       "<IPython.core.display.Math object>"
      ]
     },
     "metadata": {},
     "output_type": "display_data"
    },
    {
     "data": {
      "text/latex": [
       "$\\displaystyle \\chi^{(3)}_{zzxz} = 0.0 \\text{ } \\text{m}^2 / \\text{V}^2$"
      ],
      "text/plain": [
       "<IPython.core.display.Math object>"
      ]
     },
     "metadata": {},
     "output_type": "display_data"
    },
    {
     "data": {
      "text/latex": [
       "$\\displaystyle \\chi^{(3)}_{zzyx} = 0.0 \\text{ } \\text{m}^2 / \\text{V}^2$"
      ],
      "text/plain": [
       "<IPython.core.display.Math object>"
      ]
     },
     "metadata": {},
     "output_type": "display_data"
    },
    {
     "data": {
      "text/latex": [
       "$\\displaystyle \\chi^{(3)}_{zzyy} = 1.0160939716412883e-20 \\text{ } \\text{m}^2 / \\text{V}^2$"
      ],
      "text/plain": [
       "<IPython.core.display.Math object>"
      ]
     },
     "metadata": {},
     "output_type": "display_data"
    },
    {
     "data": {
      "text/latex": [
       "$\\displaystyle \\chi^{(3)}_{zzyz} = 0.0 \\text{ } \\text{m}^2 / \\text{V}^2$"
      ],
      "text/plain": [
       "<IPython.core.display.Math object>"
      ]
     },
     "metadata": {},
     "output_type": "display_data"
    },
    {
     "data": {
      "text/latex": [
       "$\\displaystyle \\chi^{(3)}_{zzzx} = 0.0 \\text{ } \\text{m}^2 / \\text{V}^2$"
      ],
      "text/plain": [
       "<IPython.core.display.Math object>"
      ]
     },
     "metadata": {},
     "output_type": "display_data"
    },
    {
     "data": {
      "text/latex": [
       "$\\displaystyle \\chi^{(3)}_{zzzy} = 0.0 \\text{ } \\text{m}^2 / \\text{V}^2$"
      ],
      "text/plain": [
       "<IPython.core.display.Math object>"
      ]
     },
     "metadata": {},
     "output_type": "display_data"
    },
    {
     "data": {
      "text/latex": [
       "$\\displaystyle \\chi^{(3)}_{zzzz} = 2.9084731207615323e-20 \\text{ } \\text{m}^2 / \\text{V}^2$"
      ],
      "text/plain": [
       "<IPython.core.display.Math object>"
      ]
     },
     "metadata": {},
     "output_type": "display_data"
    },
    {
     "name": "stdout",
     "output_type": "stream",
     "text": [
      "\n",
      "\n",
      "Electronic + Reorientation\n"
     ]
    },
    {
     "data": {
      "text/latex": [
       "$\\displaystyle \\chi^{(3)}_{xxxx} = 2.9482464132782736e-20 \\text{ } \\text{m}^2 / \\text{V}^2$"
      ],
      "text/plain": [
       "<IPython.core.display.Math object>"
      ]
     },
     "metadata": {},
     "output_type": "display_data"
    },
    {
     "data": {
      "text/latex": [
       "$\\displaystyle \\chi^{(3)}_{xxxy} = 0.0 \\text{ } \\text{m}^2 / \\text{V}^2$"
      ],
      "text/plain": [
       "<IPython.core.display.Math object>"
      ]
     },
     "metadata": {},
     "output_type": "display_data"
    },
    {
     "data": {
      "text/latex": [
       "$\\displaystyle \\chi^{(3)}_{xxxz} = 0.0 \\text{ } \\text{m}^2 / \\text{V}^2$"
      ],
      "text/plain": [
       "<IPython.core.display.Math object>"
      ]
     },
     "metadata": {},
     "output_type": "display_data"
    },
    {
     "data": {
      "text/latex": [
       "$\\displaystyle \\chi^{(3)}_{xxyx} = 0.0 \\text{ } \\text{m}^2 / \\text{V}^2$"
      ],
      "text/plain": [
       "<IPython.core.display.Math object>"
      ]
     },
     "metadata": {},
     "output_type": "display_data"
    },
    {
     "data": {
      "text/latex": [
       "$\\displaystyle \\chi^{(3)}_{xxyy} = 9.96207325382918e-21 \\text{ } \\text{m}^2 / \\text{V}^2$"
      ],
      "text/plain": [
       "<IPython.core.display.Math object>"
      ]
     },
     "metadata": {},
     "output_type": "display_data"
    },
    {
     "data": {
      "text/latex": [
       "$\\displaystyle \\chi^{(3)}_{xxyz} = 0.0 \\text{ } \\text{m}^2 / \\text{V}^2$"
      ],
      "text/plain": [
       "<IPython.core.display.Math object>"
      ]
     },
     "metadata": {},
     "output_type": "display_data"
    },
    {
     "data": {
      "text/latex": [
       "$\\displaystyle \\chi^{(3)}_{xxzx} = 0.0 \\text{ } \\text{m}^2 / \\text{V}^2$"
      ],
      "text/plain": [
       "<IPython.core.display.Math object>"
      ]
     },
     "metadata": {},
     "output_type": "display_data"
    },
    {
     "data": {
      "text/latex": [
       "$\\displaystyle \\chi^{(3)}_{xxzy} = 0.0 \\text{ } \\text{m}^2 / \\text{V}^2$"
      ],
      "text/plain": [
       "<IPython.core.display.Math object>"
      ]
     },
     "metadata": {},
     "output_type": "display_data"
    },
    {
     "data": {
      "text/latex": [
       "$\\displaystyle \\chi^{(3)}_{xxzz} = 9.96207325382918e-21 \\text{ } \\text{m}^2 / \\text{V}^2$"
      ],
      "text/plain": [
       "<IPython.core.display.Math object>"
      ]
     },
     "metadata": {},
     "output_type": "display_data"
    },
    {
     "data": {
      "text/latex": [
       "$\\displaystyle \\chi^{(3)}_{xyxx} = 0.0 \\text{ } \\text{m}^2 / \\text{V}^2$"
      ],
      "text/plain": [
       "<IPython.core.display.Math object>"
      ]
     },
     "metadata": {},
     "output_type": "display_data"
    },
    {
     "data": {
      "text/latex": [
       "$\\displaystyle \\chi^{(3)}_{xyxy} = 9.061151468665123e-21 \\text{ } \\text{m}^2 / \\text{V}^2$"
      ],
      "text/plain": [
       "<IPython.core.display.Math object>"
      ]
     },
     "metadata": {},
     "output_type": "display_data"
    },
    {
     "data": {
      "text/latex": [
       "$\\displaystyle \\chi^{(3)}_{xyxz} = 0.0 \\text{ } \\text{m}^2 / \\text{V}^2$"
      ],
      "text/plain": [
       "<IPython.core.display.Math object>"
      ]
     },
     "metadata": {},
     "output_type": "display_data"
    },
    {
     "data": {
      "text/latex": [
       "$\\displaystyle \\chi^{(3)}_{xyyx} = 1.0459239410288437e-20 \\text{ } \\text{m}^2 / \\text{V}^2$"
      ],
      "text/plain": [
       "<IPython.core.display.Math object>"
      ]
     },
     "metadata": {},
     "output_type": "display_data"
    },
    {
     "data": {
      "text/latex": [
       "$\\displaystyle \\chi^{(3)}_{xyyy} = 0.0 \\text{ } \\text{m}^2 / \\text{V}^2$"
      ],
      "text/plain": [
       "<IPython.core.display.Math object>"
      ]
     },
     "metadata": {},
     "output_type": "display_data"
    },
    {
     "data": {
      "text/latex": [
       "$\\displaystyle \\chi^{(3)}_{xyyz} = 0.0 \\text{ } \\text{m}^2 / \\text{V}^2$"
      ],
      "text/plain": [
       "<IPython.core.display.Math object>"
      ]
     },
     "metadata": {},
     "output_type": "display_data"
    },
    {
     "data": {
      "text/latex": [
       "$\\displaystyle \\chi^{(3)}_{xyzx} = 0.0 \\text{ } \\text{m}^2 / \\text{V}^2$"
      ],
      "text/plain": [
       "<IPython.core.display.Math object>"
      ]
     },
     "metadata": {},
     "output_type": "display_data"
    },
    {
     "data": {
      "text/latex": [
       "$\\displaystyle \\chi^{(3)}_{xyzy} = 0.0 \\text{ } \\text{m}^2 / \\text{V}^2$"
      ],
      "text/plain": [
       "<IPython.core.display.Math object>"
      ]
     },
     "metadata": {},
     "output_type": "display_data"
    },
    {
     "data": {
      "text/latex": [
       "$\\displaystyle \\chi^{(3)}_{xyzz} = 0.0 \\text{ } \\text{m}^2 / \\text{V}^2$"
      ],
      "text/plain": [
       "<IPython.core.display.Math object>"
      ]
     },
     "metadata": {},
     "output_type": "display_data"
    },
    {
     "data": {
      "text/latex": [
       "$\\displaystyle \\chi^{(3)}_{xzxx} = 0.0 \\text{ } \\text{m}^2 / \\text{V}^2$"
      ],
      "text/plain": [
       "<IPython.core.display.Math object>"
      ]
     },
     "metadata": {},
     "output_type": "display_data"
    },
    {
     "data": {
      "text/latex": [
       "$\\displaystyle \\chi^{(3)}_{xzxy} = 0.0 \\text{ } \\text{m}^2 / \\text{V}^2$"
      ],
      "text/plain": [
       "<IPython.core.display.Math object>"
      ]
     },
     "metadata": {},
     "output_type": "display_data"
    },
    {
     "data": {
      "text/latex": [
       "$\\displaystyle \\chi^{(3)}_{xzxz} = 9.061151468665123e-21 \\text{ } \\text{m}^2 / \\text{V}^2$"
      ],
      "text/plain": [
       "<IPython.core.display.Math object>"
      ]
     },
     "metadata": {},
     "output_type": "display_data"
    },
    {
     "data": {
      "text/latex": [
       "$\\displaystyle \\chi^{(3)}_{xzyx} = 0.0 \\text{ } \\text{m}^2 / \\text{V}^2$"
      ],
      "text/plain": [
       "<IPython.core.display.Math object>"
      ]
     },
     "metadata": {},
     "output_type": "display_data"
    },
    {
     "data": {
      "text/latex": [
       "$\\displaystyle \\chi^{(3)}_{xzyy} = 0.0 \\text{ } \\text{m}^2 / \\text{V}^2$"
      ],
      "text/plain": [
       "<IPython.core.display.Math object>"
      ]
     },
     "metadata": {},
     "output_type": "display_data"
    },
    {
     "data": {
      "text/latex": [
       "$\\displaystyle \\chi^{(3)}_{xzyz} = 0.0 \\text{ } \\text{m}^2 / \\text{V}^2$"
      ],
      "text/plain": [
       "<IPython.core.display.Math object>"
      ]
     },
     "metadata": {},
     "output_type": "display_data"
    },
    {
     "data": {
      "text/latex": [
       "$\\displaystyle \\chi^{(3)}_{xzzx} = 1.0459239410288437e-20 \\text{ } \\text{m}^2 / \\text{V}^2$"
      ],
      "text/plain": [
       "<IPython.core.display.Math object>"
      ]
     },
     "metadata": {},
     "output_type": "display_data"
    },
    {
     "data": {
      "text/latex": [
       "$\\displaystyle \\chi^{(3)}_{xzzy} = 0.0 \\text{ } \\text{m}^2 / \\text{V}^2$"
      ],
      "text/plain": [
       "<IPython.core.display.Math object>"
      ]
     },
     "metadata": {},
     "output_type": "display_data"
    },
    {
     "data": {
      "text/latex": [
       "$\\displaystyle \\chi^{(3)}_{xzzz} = 0.0 \\text{ } \\text{m}^2 / \\text{V}^2$"
      ],
      "text/plain": [
       "<IPython.core.display.Math object>"
      ]
     },
     "metadata": {},
     "output_type": "display_data"
    },
    {
     "data": {
      "text/latex": [
       "$\\displaystyle \\chi^{(3)}_{yxxx} = 0.0 \\text{ } \\text{m}^2 / \\text{V}^2$"
      ],
      "text/plain": [
       "<IPython.core.display.Math object>"
      ]
     },
     "metadata": {},
     "output_type": "display_data"
    },
    {
     "data": {
      "text/latex": [
       "$\\displaystyle \\chi^{(3)}_{yxxy} = 1.0459239410288437e-20 \\text{ } \\text{m}^2 / \\text{V}^2$"
      ],
      "text/plain": [
       "<IPython.core.display.Math object>"
      ]
     },
     "metadata": {},
     "output_type": "display_data"
    },
    {
     "data": {
      "text/latex": [
       "$\\displaystyle \\chi^{(3)}_{yxxz} = 0.0 \\text{ } \\text{m}^2 / \\text{V}^2$"
      ],
      "text/plain": [
       "<IPython.core.display.Math object>"
      ]
     },
     "metadata": {},
     "output_type": "display_data"
    },
    {
     "data": {
      "text/latex": [
       "$\\displaystyle \\chi^{(3)}_{yxyx} = 9.061151468665123e-21 \\text{ } \\text{m}^2 / \\text{V}^2$"
      ],
      "text/plain": [
       "<IPython.core.display.Math object>"
      ]
     },
     "metadata": {},
     "output_type": "display_data"
    },
    {
     "data": {
      "text/latex": [
       "$\\displaystyle \\chi^{(3)}_{yxyy} = 0.0 \\text{ } \\text{m}^2 / \\text{V}^2$"
      ],
      "text/plain": [
       "<IPython.core.display.Math object>"
      ]
     },
     "metadata": {},
     "output_type": "display_data"
    },
    {
     "data": {
      "text/latex": [
       "$\\displaystyle \\chi^{(3)}_{yxyz} = 0.0 \\text{ } \\text{m}^2 / \\text{V}^2$"
      ],
      "text/plain": [
       "<IPython.core.display.Math object>"
      ]
     },
     "metadata": {},
     "output_type": "display_data"
    },
    {
     "data": {
      "text/latex": [
       "$\\displaystyle \\chi^{(3)}_{yxzx} = 0.0 \\text{ } \\text{m}^2 / \\text{V}^2$"
      ],
      "text/plain": [
       "<IPython.core.display.Math object>"
      ]
     },
     "metadata": {},
     "output_type": "display_data"
    },
    {
     "data": {
      "text/latex": [
       "$\\displaystyle \\chi^{(3)}_{yxzy} = 0.0 \\text{ } \\text{m}^2 / \\text{V}^2$"
      ],
      "text/plain": [
       "<IPython.core.display.Math object>"
      ]
     },
     "metadata": {},
     "output_type": "display_data"
    },
    {
     "data": {
      "text/latex": [
       "$\\displaystyle \\chi^{(3)}_{yxzz} = 0.0 \\text{ } \\text{m}^2 / \\text{V}^2$"
      ],
      "text/plain": [
       "<IPython.core.display.Math object>"
      ]
     },
     "metadata": {},
     "output_type": "display_data"
    },
    {
     "data": {
      "text/latex": [
       "$\\displaystyle \\chi^{(3)}_{yyxx} = 9.96207325382918e-21 \\text{ } \\text{m}^2 / \\text{V}^2$"
      ],
      "text/plain": [
       "<IPython.core.display.Math object>"
      ]
     },
     "metadata": {},
     "output_type": "display_data"
    },
    {
     "data": {
      "text/latex": [
       "$\\displaystyle \\chi^{(3)}_{yyxy} = 0.0 \\text{ } \\text{m}^2 / \\text{V}^2$"
      ],
      "text/plain": [
       "<IPython.core.display.Math object>"
      ]
     },
     "metadata": {},
     "output_type": "display_data"
    },
    {
     "data": {
      "text/latex": [
       "$\\displaystyle \\chi^{(3)}_{yyxz} = 0.0 \\text{ } \\text{m}^2 / \\text{V}^2$"
      ],
      "text/plain": [
       "<IPython.core.display.Math object>"
      ]
     },
     "metadata": {},
     "output_type": "display_data"
    },
    {
     "data": {
      "text/latex": [
       "$\\displaystyle \\chi^{(3)}_{yyyx} = 0.0 \\text{ } \\text{m}^2 / \\text{V}^2$"
      ],
      "text/plain": [
       "<IPython.core.display.Math object>"
      ]
     },
     "metadata": {},
     "output_type": "display_data"
    },
    {
     "data": {
      "text/latex": [
       "$\\displaystyle \\chi^{(3)}_{yyyy} = 2.9482464132782736e-20 \\text{ } \\text{m}^2 / \\text{V}^2$"
      ],
      "text/plain": [
       "<IPython.core.display.Math object>"
      ]
     },
     "metadata": {},
     "output_type": "display_data"
    },
    {
     "data": {
      "text/latex": [
       "$\\displaystyle \\chi^{(3)}_{yyyz} = 0.0 \\text{ } \\text{m}^2 / \\text{V}^2$"
      ],
      "text/plain": [
       "<IPython.core.display.Math object>"
      ]
     },
     "metadata": {},
     "output_type": "display_data"
    },
    {
     "data": {
      "text/latex": [
       "$\\displaystyle \\chi^{(3)}_{yyzx} = 0.0 \\text{ } \\text{m}^2 / \\text{V}^2$"
      ],
      "text/plain": [
       "<IPython.core.display.Math object>"
      ]
     },
     "metadata": {},
     "output_type": "display_data"
    },
    {
     "data": {
      "text/latex": [
       "$\\displaystyle \\chi^{(3)}_{yyzy} = 0.0 \\text{ } \\text{m}^2 / \\text{V}^2$"
      ],
      "text/plain": [
       "<IPython.core.display.Math object>"
      ]
     },
     "metadata": {},
     "output_type": "display_data"
    },
    {
     "data": {
      "text/latex": [
       "$\\displaystyle \\chi^{(3)}_{yyzz} = 9.96207325382918e-21 \\text{ } \\text{m}^2 / \\text{V}^2$"
      ],
      "text/plain": [
       "<IPython.core.display.Math object>"
      ]
     },
     "metadata": {},
     "output_type": "display_data"
    },
    {
     "data": {
      "text/latex": [
       "$\\displaystyle \\chi^{(3)}_{yzxx} = 0.0 \\text{ } \\text{m}^2 / \\text{V}^2$"
      ],
      "text/plain": [
       "<IPython.core.display.Math object>"
      ]
     },
     "metadata": {},
     "output_type": "display_data"
    },
    {
     "data": {
      "text/latex": [
       "$\\displaystyle \\chi^{(3)}_{yzxy} = 0.0 \\text{ } \\text{m}^2 / \\text{V}^2$"
      ],
      "text/plain": [
       "<IPython.core.display.Math object>"
      ]
     },
     "metadata": {},
     "output_type": "display_data"
    },
    {
     "data": {
      "text/latex": [
       "$\\displaystyle \\chi^{(3)}_{yzxz} = 0.0 \\text{ } \\text{m}^2 / \\text{V}^2$"
      ],
      "text/plain": [
       "<IPython.core.display.Math object>"
      ]
     },
     "metadata": {},
     "output_type": "display_data"
    },
    {
     "data": {
      "text/latex": [
       "$\\displaystyle \\chi^{(3)}_{yzyx} = 0.0 \\text{ } \\text{m}^2 / \\text{V}^2$"
      ],
      "text/plain": [
       "<IPython.core.display.Math object>"
      ]
     },
     "metadata": {},
     "output_type": "display_data"
    },
    {
     "data": {
      "text/latex": [
       "$\\displaystyle \\chi^{(3)}_{yzyy} = 0.0 \\text{ } \\text{m}^2 / \\text{V}^2$"
      ],
      "text/plain": [
       "<IPython.core.display.Math object>"
      ]
     },
     "metadata": {},
     "output_type": "display_data"
    },
    {
     "data": {
      "text/latex": [
       "$\\displaystyle \\chi^{(3)}_{yzyz} = 9.061151468665123e-21 \\text{ } \\text{m}^2 / \\text{V}^2$"
      ],
      "text/plain": [
       "<IPython.core.display.Math object>"
      ]
     },
     "metadata": {},
     "output_type": "display_data"
    },
    {
     "data": {
      "text/latex": [
       "$\\displaystyle \\chi^{(3)}_{yzzx} = 0.0 \\text{ } \\text{m}^2 / \\text{V}^2$"
      ],
      "text/plain": [
       "<IPython.core.display.Math object>"
      ]
     },
     "metadata": {},
     "output_type": "display_data"
    },
    {
     "data": {
      "text/latex": [
       "$\\displaystyle \\chi^{(3)}_{yzzy} = 1.0459239410288437e-20 \\text{ } \\text{m}^2 / \\text{V}^2$"
      ],
      "text/plain": [
       "<IPython.core.display.Math object>"
      ]
     },
     "metadata": {},
     "output_type": "display_data"
    },
    {
     "data": {
      "text/latex": [
       "$\\displaystyle \\chi^{(3)}_{yzzz} = 0.0 \\text{ } \\text{m}^2 / \\text{V}^2$"
      ],
      "text/plain": [
       "<IPython.core.display.Math object>"
      ]
     },
     "metadata": {},
     "output_type": "display_data"
    },
    {
     "data": {
      "text/latex": [
       "$\\displaystyle \\chi^{(3)}_{zxxx} = 0.0 \\text{ } \\text{m}^2 / \\text{V}^2$"
      ],
      "text/plain": [
       "<IPython.core.display.Math object>"
      ]
     },
     "metadata": {},
     "output_type": "display_data"
    },
    {
     "data": {
      "text/latex": [
       "$\\displaystyle \\chi^{(3)}_{zxxy} = 0.0 \\text{ } \\text{m}^2 / \\text{V}^2$"
      ],
      "text/plain": [
       "<IPython.core.display.Math object>"
      ]
     },
     "metadata": {},
     "output_type": "display_data"
    },
    {
     "data": {
      "text/latex": [
       "$\\displaystyle \\chi^{(3)}_{zxxz} = 1.0459239410288437e-20 \\text{ } \\text{m}^2 / \\text{V}^2$"
      ],
      "text/plain": [
       "<IPython.core.display.Math object>"
      ]
     },
     "metadata": {},
     "output_type": "display_data"
    },
    {
     "data": {
      "text/latex": [
       "$\\displaystyle \\chi^{(3)}_{zxyx} = 0.0 \\text{ } \\text{m}^2 / \\text{V}^2$"
      ],
      "text/plain": [
       "<IPython.core.display.Math object>"
      ]
     },
     "metadata": {},
     "output_type": "display_data"
    },
    {
     "data": {
      "text/latex": [
       "$\\displaystyle \\chi^{(3)}_{zxyy} = 0.0 \\text{ } \\text{m}^2 / \\text{V}^2$"
      ],
      "text/plain": [
       "<IPython.core.display.Math object>"
      ]
     },
     "metadata": {},
     "output_type": "display_data"
    },
    {
     "data": {
      "text/latex": [
       "$\\displaystyle \\chi^{(3)}_{zxyz} = 0.0 \\text{ } \\text{m}^2 / \\text{V}^2$"
      ],
      "text/plain": [
       "<IPython.core.display.Math object>"
      ]
     },
     "metadata": {},
     "output_type": "display_data"
    },
    {
     "data": {
      "text/latex": [
       "$\\displaystyle \\chi^{(3)}_{zxzx} = 9.061151468665123e-21 \\text{ } \\text{m}^2 / \\text{V}^2$"
      ],
      "text/plain": [
       "<IPython.core.display.Math object>"
      ]
     },
     "metadata": {},
     "output_type": "display_data"
    },
    {
     "data": {
      "text/latex": [
       "$\\displaystyle \\chi^{(3)}_{zxzy} = 0.0 \\text{ } \\text{m}^2 / \\text{V}^2$"
      ],
      "text/plain": [
       "<IPython.core.display.Math object>"
      ]
     },
     "metadata": {},
     "output_type": "display_data"
    },
    {
     "data": {
      "text/latex": [
       "$\\displaystyle \\chi^{(3)}_{zxzz} = 0.0 \\text{ } \\text{m}^2 / \\text{V}^2$"
      ],
      "text/plain": [
       "<IPython.core.display.Math object>"
      ]
     },
     "metadata": {},
     "output_type": "display_data"
    },
    {
     "data": {
      "text/latex": [
       "$\\displaystyle \\chi^{(3)}_{zyxx} = 0.0 \\text{ } \\text{m}^2 / \\text{V}^2$"
      ],
      "text/plain": [
       "<IPython.core.display.Math object>"
      ]
     },
     "metadata": {},
     "output_type": "display_data"
    },
    {
     "data": {
      "text/latex": [
       "$\\displaystyle \\chi^{(3)}_{zyxy} = 0.0 \\text{ } \\text{m}^2 / \\text{V}^2$"
      ],
      "text/plain": [
       "<IPython.core.display.Math object>"
      ]
     },
     "metadata": {},
     "output_type": "display_data"
    },
    {
     "data": {
      "text/latex": [
       "$\\displaystyle \\chi^{(3)}_{zyxz} = 0.0 \\text{ } \\text{m}^2 / \\text{V}^2$"
      ],
      "text/plain": [
       "<IPython.core.display.Math object>"
      ]
     },
     "metadata": {},
     "output_type": "display_data"
    },
    {
     "data": {
      "text/latex": [
       "$\\displaystyle \\chi^{(3)}_{zyyx} = 0.0 \\text{ } \\text{m}^2 / \\text{V}^2$"
      ],
      "text/plain": [
       "<IPython.core.display.Math object>"
      ]
     },
     "metadata": {},
     "output_type": "display_data"
    },
    {
     "data": {
      "text/latex": [
       "$\\displaystyle \\chi^{(3)}_{zyyy} = 0.0 \\text{ } \\text{m}^2 / \\text{V}^2$"
      ],
      "text/plain": [
       "<IPython.core.display.Math object>"
      ]
     },
     "metadata": {},
     "output_type": "display_data"
    },
    {
     "data": {
      "text/latex": [
       "$\\displaystyle \\chi^{(3)}_{zyyz} = 1.0459239410288437e-20 \\text{ } \\text{m}^2 / \\text{V}^2$"
      ],
      "text/plain": [
       "<IPython.core.display.Math object>"
      ]
     },
     "metadata": {},
     "output_type": "display_data"
    },
    {
     "data": {
      "text/latex": [
       "$\\displaystyle \\chi^{(3)}_{zyzx} = 0.0 \\text{ } \\text{m}^2 / \\text{V}^2$"
      ],
      "text/plain": [
       "<IPython.core.display.Math object>"
      ]
     },
     "metadata": {},
     "output_type": "display_data"
    },
    {
     "data": {
      "text/latex": [
       "$\\displaystyle \\chi^{(3)}_{zyzy} = 9.061151468665123e-21 \\text{ } \\text{m}^2 / \\text{V}^2$"
      ],
      "text/plain": [
       "<IPython.core.display.Math object>"
      ]
     },
     "metadata": {},
     "output_type": "display_data"
    },
    {
     "data": {
      "text/latex": [
       "$\\displaystyle \\chi^{(3)}_{zyzz} = 0.0 \\text{ } \\text{m}^2 / \\text{V}^2$"
      ],
      "text/plain": [
       "<IPython.core.display.Math object>"
      ]
     },
     "metadata": {},
     "output_type": "display_data"
    },
    {
     "data": {
      "text/latex": [
       "$\\displaystyle \\chi^{(3)}_{zzxx} = 9.96207325382918e-21 \\text{ } \\text{m}^2 / \\text{V}^2$"
      ],
      "text/plain": [
       "<IPython.core.display.Math object>"
      ]
     },
     "metadata": {},
     "output_type": "display_data"
    },
    {
     "data": {
      "text/latex": [
       "$\\displaystyle \\chi^{(3)}_{zzxy} = 0.0 \\text{ } \\text{m}^2 / \\text{V}^2$"
      ],
      "text/plain": [
       "<IPython.core.display.Math object>"
      ]
     },
     "metadata": {},
     "output_type": "display_data"
    },
    {
     "data": {
      "text/latex": [
       "$\\displaystyle \\chi^{(3)}_{zzxz} = 0.0 \\text{ } \\text{m}^2 / \\text{V}^2$"
      ],
      "text/plain": [
       "<IPython.core.display.Math object>"
      ]
     },
     "metadata": {},
     "output_type": "display_data"
    },
    {
     "data": {
      "text/latex": [
       "$\\displaystyle \\chi^{(3)}_{zzyx} = 0.0 \\text{ } \\text{m}^2 / \\text{V}^2$"
      ],
      "text/plain": [
       "<IPython.core.display.Math object>"
      ]
     },
     "metadata": {},
     "output_type": "display_data"
    },
    {
     "data": {
      "text/latex": [
       "$\\displaystyle \\chi^{(3)}_{zzyy} = 9.96207325382918e-21 \\text{ } \\text{m}^2 / \\text{V}^2$"
      ],
      "text/plain": [
       "<IPython.core.display.Math object>"
      ]
     },
     "metadata": {},
     "output_type": "display_data"
    },
    {
     "data": {
      "text/latex": [
       "$\\displaystyle \\chi^{(3)}_{zzyz} = 0.0 \\text{ } \\text{m}^2 / \\text{V}^2$"
      ],
      "text/plain": [
       "<IPython.core.display.Math object>"
      ]
     },
     "metadata": {},
     "output_type": "display_data"
    },
    {
     "data": {
      "text/latex": [
       "$\\displaystyle \\chi^{(3)}_{zzzx} = 0.0 \\text{ } \\text{m}^2 / \\text{V}^2$"
      ],
      "text/plain": [
       "<IPython.core.display.Math object>"
      ]
     },
     "metadata": {},
     "output_type": "display_data"
    },
    {
     "data": {
      "text/latex": [
       "$\\displaystyle \\chi^{(3)}_{zzzy} = 0.0 \\text{ } \\text{m}^2 / \\text{V}^2$"
      ],
      "text/plain": [
       "<IPython.core.display.Math object>"
      ]
     },
     "metadata": {},
     "output_type": "display_data"
    },
    {
     "data": {
      "text/latex": [
       "$\\displaystyle \\chi^{(3)}_{zzzz} = 2.9482464132782736e-20 \\text{ } \\text{m}^2 / \\text{V}^2$"
      ],
      "text/plain": [
       "<IPython.core.display.Math object>"
      ]
     },
     "metadata": {},
     "output_type": "display_data"
    }
   ],
   "source": [
    "#compute ground state chi3 \n",
    "\n",
    "gamma_NB_ground_calc = [[(0,0,0,0),      12716.2358]\n",
    "                        ,[(0,0,1,1),       6570.5244]\n",
    "                        ,[(0,1,1,0),       6570.5244]\n",
    "                        ,[(0,1,0,1),       6523.3502]\n",
    "                        ,[(0,0,2,2),       4683.4826]\n",
    "                        ,[(0,2,2,0),       4683.4826]\n",
    "                        ,[(0,2,0,2),       3981.3582]\n",
    "                        ,[(1,1,0,0),       6570.5244]\n",
    "                        ,[(1,0,0,1),       6570.5244]\n",
    "                        ,[(1,0,1,0),       6522.9921]\n",
    "                        ,[(1,1,1,1),      12338.1299]\n",
    "                        ,[(1,1,2,2),       4130.7399]\n",
    "                        ,[(1,2,2,1),       4130.7399]\n",
    "                        ,[(1,2,1,2),       1087.6608]\n",
    "                        ,[(2,2,0,0),       4683.4826]\n",
    "                        ,[(2,0,0,2),       4683.4826]\n",
    "                        ,[(2,0,2,0),       3985.5636]\n",
    "                        ,[(2,2,1,1),       4130.7399]\n",
    "                        ,[(2,1,1,2),       4130.7399]\n",
    "                        ,[(2,1,2,1),       1090.6088]\n",
    "                        ,[(2,2,2,2),      78073.7706]]\n",
    "\n",
    "alpha_NB_ground_calc = [[( 0 , 0 ),  4.589388894208E+01]\n",
    "                        ,[( 0 , 1 ),  3.922019465938E-04]\n",
    "                        ,[( 0 , 2 ),  1.574240352075E-05]\n",
    "                        ,[( 1 , 1 ),  9.741162203419E+01]\n",
    "                        ,[( 1 , 2 ),  1.884200438212E-04]\n",
    "                        ,[( 2 , 2 ),  1.169470792825E+02]]\n",
    "\n",
    "print(\"Electronic\")\n",
    "gamma_NB_ground_rot_ave, chi3_NB_ground_rot_ave = compute_and_display_chi3_from_raw_gamma(gamma_NB_ground_calc, .8, .8, .8, .8)\n",
    "print(\"\\n\\nElectronic + Reorientation\")\n",
    "gamma_NB_ground_uncorrected, chi3_NB_ground_corrected = compute_and_display_chi3_from_raw_gamma_alpha(gamma_NB_ground_calc, alpha_NB_ground_calc, .8, .8, .8, .8)"
   ]
  },
  {
   "cell_type": "code",
   "execution_count": null,
   "metadata": {},
   "outputs": [],
   "source": []
  },
  {
   "cell_type": "code",
   "execution_count": 6,
   "metadata": {
    "collapsed": true
   },
   "outputs": [
    {
     "data": {
      "text/latex": [
       "$$\\chi^{(3)}_{xxxx} = 5.612039996952516e-38 \\text{ } \\text{m}^2 / \\text{V}^2$$"
      ],
      "text/plain": [
       "<IPython.core.display.Math object>"
      ]
     },
     "metadata": {},
     "output_type": "display_data"
    },
    {
     "data": {
      "text/latex": [
       "$$\\chi^{(3)}_{xxxy} = 0.0 \\text{ } \\text{m}^2 / \\text{V}^2$$"
      ],
      "text/plain": [
       "<IPython.core.display.Math object>"
      ]
     },
     "metadata": {},
     "output_type": "display_data"
    },
    {
     "data": {
      "text/latex": [
       "$$\\chi^{(3)}_{xxxz} = 0.0 \\text{ } \\text{m}^2 / \\text{V}^2$$"
      ],
      "text/plain": [
       "<IPython.core.display.Math object>"
      ]
     },
     "metadata": {},
     "output_type": "display_data"
    },
    {
     "data": {
      "text/latex": [
       "$$\\chi^{(3)}_{xxyx} = 0.0 \\text{ } \\text{m}^2 / \\text{V}^2$$"
      ],
      "text/plain": [
       "<IPython.core.display.Math object>"
      ]
     },
     "metadata": {},
     "output_type": "display_data"
    },
    {
     "data": {
      "text/latex": [
       "$$\\chi^{(3)}_{xxyy} = 1.8706799989841718e-38 \\text{ } \\text{m}^2 / \\text{V}^2$$"
      ],
      "text/plain": [
       "<IPython.core.display.Math object>"
      ]
     },
     "metadata": {},
     "output_type": "display_data"
    },
    {
     "data": {
      "text/latex": [
       "$$\\chi^{(3)}_{xxyz} = 0.0 \\text{ } \\text{m}^2 / \\text{V}^2$$"
      ],
      "text/plain": [
       "<IPython.core.display.Math object>"
      ]
     },
     "metadata": {},
     "output_type": "display_data"
    },
    {
     "data": {
      "text/latex": [
       "$$\\chi^{(3)}_{xxzx} = 0.0 \\text{ } \\text{m}^2 / \\text{V}^2$$"
      ],
      "text/plain": [
       "<IPython.core.display.Math object>"
      ]
     },
     "metadata": {},
     "output_type": "display_data"
    },
    {
     "data": {
      "text/latex": [
       "$$\\chi^{(3)}_{xxzy} = 0.0 \\text{ } \\text{m}^2 / \\text{V}^2$$"
      ],
      "text/plain": [
       "<IPython.core.display.Math object>"
      ]
     },
     "metadata": {},
     "output_type": "display_data"
    },
    {
     "data": {
      "text/latex": [
       "$$\\chi^{(3)}_{xxzz} = 1.8706799989841718e-38 \\text{ } \\text{m}^2 / \\text{V}^2$$"
      ],
      "text/plain": [
       "<IPython.core.display.Math object>"
      ]
     },
     "metadata": {},
     "output_type": "display_data"
    },
    {
     "data": {
      "text/latex": [
       "$$\\chi^{(3)}_{xyxx} = 0.0 \\text{ } \\text{m}^2 / \\text{V}^2$$"
      ],
      "text/plain": [
       "<IPython.core.display.Math object>"
      ]
     },
     "metadata": {},
     "output_type": "display_data"
    },
    {
     "data": {
      "text/latex": [
       "$$\\chi^{(3)}_{xyxy} = 1.8706799989841718e-38 \\text{ } \\text{m}^2 / \\text{V}^2$$"
      ],
      "text/plain": [
       "<IPython.core.display.Math object>"
      ]
     },
     "metadata": {},
     "output_type": "display_data"
    },
    {
     "data": {
      "text/latex": [
       "$$\\chi^{(3)}_{xyxz} = 0.0 \\text{ } \\text{m}^2 / \\text{V}^2$$"
      ],
      "text/plain": [
       "<IPython.core.display.Math object>"
      ]
     },
     "metadata": {},
     "output_type": "display_data"
    },
    {
     "data": {
      "text/latex": [
       "$$\\chi^{(3)}_{xyyx} = 1.870679998984172e-38 \\text{ } \\text{m}^2 / \\text{V}^2$$"
      ],
      "text/plain": [
       "<IPython.core.display.Math object>"
      ]
     },
     "metadata": {},
     "output_type": "display_data"
    },
    {
     "data": {
      "text/latex": [
       "$$\\chi^{(3)}_{xyyy} = 0.0 \\text{ } \\text{m}^2 / \\text{V}^2$$"
      ],
      "text/plain": [
       "<IPython.core.display.Math object>"
      ]
     },
     "metadata": {},
     "output_type": "display_data"
    },
    {
     "data": {
      "text/latex": [
       "$$\\chi^{(3)}_{xyyz} = 0.0 \\text{ } \\text{m}^2 / \\text{V}^2$$"
      ],
      "text/plain": [
       "<IPython.core.display.Math object>"
      ]
     },
     "metadata": {},
     "output_type": "display_data"
    },
    {
     "data": {
      "text/latex": [
       "$$\\chi^{(3)}_{xyzx} = 0.0 \\text{ } \\text{m}^2 / \\text{V}^2$$"
      ],
      "text/plain": [
       "<IPython.core.display.Math object>"
      ]
     },
     "metadata": {},
     "output_type": "display_data"
    },
    {
     "data": {
      "text/latex": [
       "$$\\chi^{(3)}_{xyzy} = 0.0 \\text{ } \\text{m}^2 / \\text{V}^2$$"
      ],
      "text/plain": [
       "<IPython.core.display.Math object>"
      ]
     },
     "metadata": {},
     "output_type": "display_data"
    },
    {
     "data": {
      "text/latex": [
       "$$\\chi^{(3)}_{xyzz} = 0.0 \\text{ } \\text{m}^2 / \\text{V}^2$$"
      ],
      "text/plain": [
       "<IPython.core.display.Math object>"
      ]
     },
     "metadata": {},
     "output_type": "display_data"
    },
    {
     "data": {
      "text/latex": [
       "$$\\chi^{(3)}_{xzxx} = 0.0 \\text{ } \\text{m}^2 / \\text{V}^2$$"
      ],
      "text/plain": [
       "<IPython.core.display.Math object>"
      ]
     },
     "metadata": {},
     "output_type": "display_data"
    },
    {
     "data": {
      "text/latex": [
       "$$\\chi^{(3)}_{xzxy} = 0.0 \\text{ } \\text{m}^2 / \\text{V}^2$$"
      ],
      "text/plain": [
       "<IPython.core.display.Math object>"
      ]
     },
     "metadata": {},
     "output_type": "display_data"
    },
    {
     "data": {
      "text/latex": [
       "$$\\chi^{(3)}_{xzxz} = 1.8706799989841718e-38 \\text{ } \\text{m}^2 / \\text{V}^2$$"
      ],
      "text/plain": [
       "<IPython.core.display.Math object>"
      ]
     },
     "metadata": {},
     "output_type": "display_data"
    },
    {
     "data": {
      "text/latex": [
       "$$\\chi^{(3)}_{xzyx} = 0.0 \\text{ } \\text{m}^2 / \\text{V}^2$$"
      ],
      "text/plain": [
       "<IPython.core.display.Math object>"
      ]
     },
     "metadata": {},
     "output_type": "display_data"
    },
    {
     "data": {
      "text/latex": [
       "$$\\chi^{(3)}_{xzyy} = 0.0 \\text{ } \\text{m}^2 / \\text{V}^2$$"
      ],
      "text/plain": [
       "<IPython.core.display.Math object>"
      ]
     },
     "metadata": {},
     "output_type": "display_data"
    },
    {
     "data": {
      "text/latex": [
       "$$\\chi^{(3)}_{xzyz} = 0.0 \\text{ } \\text{m}^2 / \\text{V}^2$$"
      ],
      "text/plain": [
       "<IPython.core.display.Math object>"
      ]
     },
     "metadata": {},
     "output_type": "display_data"
    },
    {
     "data": {
      "text/latex": [
       "$$\\chi^{(3)}_{xzzx} = 1.870679998984172e-38 \\text{ } \\text{m}^2 / \\text{V}^2$$"
      ],
      "text/plain": [
       "<IPython.core.display.Math object>"
      ]
     },
     "metadata": {},
     "output_type": "display_data"
    },
    {
     "data": {
      "text/latex": [
       "$$\\chi^{(3)}_{xzzy} = 0.0 \\text{ } \\text{m}^2 / \\text{V}^2$$"
      ],
      "text/plain": [
       "<IPython.core.display.Math object>"
      ]
     },
     "metadata": {},
     "output_type": "display_data"
    },
    {
     "data": {
      "text/latex": [
       "$$\\chi^{(3)}_{xzzz} = 0.0 \\text{ } \\text{m}^2 / \\text{V}^2$$"
      ],
      "text/plain": [
       "<IPython.core.display.Math object>"
      ]
     },
     "metadata": {},
     "output_type": "display_data"
    },
    {
     "data": {
      "text/latex": [
       "$$\\chi^{(3)}_{yxxx} = 0.0 \\text{ } \\text{m}^2 / \\text{V}^2$$"
      ],
      "text/plain": [
       "<IPython.core.display.Math object>"
      ]
     },
     "metadata": {},
     "output_type": "display_data"
    },
    {
     "data": {
      "text/latex": [
       "$$\\chi^{(3)}_{yxxy} = 1.870679998984172e-38 \\text{ } \\text{m}^2 / \\text{V}^2$$"
      ],
      "text/plain": [
       "<IPython.core.display.Math object>"
      ]
     },
     "metadata": {},
     "output_type": "display_data"
    },
    {
     "data": {
      "text/latex": [
       "$$\\chi^{(3)}_{yxxz} = 0.0 \\text{ } \\text{m}^2 / \\text{V}^2$$"
      ],
      "text/plain": [
       "<IPython.core.display.Math object>"
      ]
     },
     "metadata": {},
     "output_type": "display_data"
    },
    {
     "data": {
      "text/latex": [
       "$$\\chi^{(3)}_{yxyx} = 1.8706799989841718e-38 \\text{ } \\text{m}^2 / \\text{V}^2$$"
      ],
      "text/plain": [
       "<IPython.core.display.Math object>"
      ]
     },
     "metadata": {},
     "output_type": "display_data"
    },
    {
     "data": {
      "text/latex": [
       "$$\\chi^{(3)}_{yxyy} = 0.0 \\text{ } \\text{m}^2 / \\text{V}^2$$"
      ],
      "text/plain": [
       "<IPython.core.display.Math object>"
      ]
     },
     "metadata": {},
     "output_type": "display_data"
    },
    {
     "data": {
      "text/latex": [
       "$$\\chi^{(3)}_{yxyz} = 0.0 \\text{ } \\text{m}^2 / \\text{V}^2$$"
      ],
      "text/plain": [
       "<IPython.core.display.Math object>"
      ]
     },
     "metadata": {},
     "output_type": "display_data"
    },
    {
     "data": {
      "text/latex": [
       "$$\\chi^{(3)}_{yxzx} = 0.0 \\text{ } \\text{m}^2 / \\text{V}^2$$"
      ],
      "text/plain": [
       "<IPython.core.display.Math object>"
      ]
     },
     "metadata": {},
     "output_type": "display_data"
    },
    {
     "data": {
      "text/latex": [
       "$$\\chi^{(3)}_{yxzy} = 0.0 \\text{ } \\text{m}^2 / \\text{V}^2$$"
      ],
      "text/plain": [
       "<IPython.core.display.Math object>"
      ]
     },
     "metadata": {},
     "output_type": "display_data"
    },
    {
     "data": {
      "text/latex": [
       "$$\\chi^{(3)}_{yxzz} = 0.0 \\text{ } \\text{m}^2 / \\text{V}^2$$"
      ],
      "text/plain": [
       "<IPython.core.display.Math object>"
      ]
     },
     "metadata": {},
     "output_type": "display_data"
    },
    {
     "data": {
      "text/latex": [
       "$$\\chi^{(3)}_{yyxx} = 1.8706799989841718e-38 \\text{ } \\text{m}^2 / \\text{V}^2$$"
      ],
      "text/plain": [
       "<IPython.core.display.Math object>"
      ]
     },
     "metadata": {},
     "output_type": "display_data"
    },
    {
     "data": {
      "text/latex": [
       "$$\\chi^{(3)}_{yyxy} = 0.0 \\text{ } \\text{m}^2 / \\text{V}^2$$"
      ],
      "text/plain": [
       "<IPython.core.display.Math object>"
      ]
     },
     "metadata": {},
     "output_type": "display_data"
    },
    {
     "data": {
      "text/latex": [
       "$$\\chi^{(3)}_{yyxz} = 0.0 \\text{ } \\text{m}^2 / \\text{V}^2$$"
      ],
      "text/plain": [
       "<IPython.core.display.Math object>"
      ]
     },
     "metadata": {},
     "output_type": "display_data"
    },
    {
     "data": {
      "text/latex": [
       "$$\\chi^{(3)}_{yyyx} = 0.0 \\text{ } \\text{m}^2 / \\text{V}^2$$"
      ],
      "text/plain": [
       "<IPython.core.display.Math object>"
      ]
     },
     "metadata": {},
     "output_type": "display_data"
    },
    {
     "data": {
      "text/latex": [
       "$$\\chi^{(3)}_{yyyy} = 5.612039996952516e-38 \\text{ } \\text{m}^2 / \\text{V}^2$$"
      ],
      "text/plain": [
       "<IPython.core.display.Math object>"
      ]
     },
     "metadata": {},
     "output_type": "display_data"
    },
    {
     "data": {
      "text/latex": [
       "$$\\chi^{(3)}_{yyyz} = 0.0 \\text{ } \\text{m}^2 / \\text{V}^2$$"
      ],
      "text/plain": [
       "<IPython.core.display.Math object>"
      ]
     },
     "metadata": {},
     "output_type": "display_data"
    },
    {
     "data": {
      "text/latex": [
       "$$\\chi^{(3)}_{yyzx} = 0.0 \\text{ } \\text{m}^2 / \\text{V}^2$$"
      ],
      "text/plain": [
       "<IPython.core.display.Math object>"
      ]
     },
     "metadata": {},
     "output_type": "display_data"
    },
    {
     "data": {
      "text/latex": [
       "$$\\chi^{(3)}_{yyzy} = 0.0 \\text{ } \\text{m}^2 / \\text{V}^2$$"
      ],
      "text/plain": [
       "<IPython.core.display.Math object>"
      ]
     },
     "metadata": {},
     "output_type": "display_data"
    },
    {
     "data": {
      "text/latex": [
       "$$\\chi^{(3)}_{yyzz} = 1.8706799989841718e-38 \\text{ } \\text{m}^2 / \\text{V}^2$$"
      ],
      "text/plain": [
       "<IPython.core.display.Math object>"
      ]
     },
     "metadata": {},
     "output_type": "display_data"
    },
    {
     "data": {
      "text/latex": [
       "$$\\chi^{(3)}_{yzxx} = 0.0 \\text{ } \\text{m}^2 / \\text{V}^2$$"
      ],
      "text/plain": [
       "<IPython.core.display.Math object>"
      ]
     },
     "metadata": {},
     "output_type": "display_data"
    },
    {
     "data": {
      "text/latex": [
       "$$\\chi^{(3)}_{yzxy} = 0.0 \\text{ } \\text{m}^2 / \\text{V}^2$$"
      ],
      "text/plain": [
       "<IPython.core.display.Math object>"
      ]
     },
     "metadata": {},
     "output_type": "display_data"
    },
    {
     "data": {
      "text/latex": [
       "$$\\chi^{(3)}_{yzxz} = 0.0 \\text{ } \\text{m}^2 / \\text{V}^2$$"
      ],
      "text/plain": [
       "<IPython.core.display.Math object>"
      ]
     },
     "metadata": {},
     "output_type": "display_data"
    },
    {
     "data": {
      "text/latex": [
       "$$\\chi^{(3)}_{yzyx} = 0.0 \\text{ } \\text{m}^2 / \\text{V}^2$$"
      ],
      "text/plain": [
       "<IPython.core.display.Math object>"
      ]
     },
     "metadata": {},
     "output_type": "display_data"
    },
    {
     "data": {
      "text/latex": [
       "$$\\chi^{(3)}_{yzyy} = 0.0 \\text{ } \\text{m}^2 / \\text{V}^2$$"
      ],
      "text/plain": [
       "<IPython.core.display.Math object>"
      ]
     },
     "metadata": {},
     "output_type": "display_data"
    },
    {
     "data": {
      "text/latex": [
       "$$\\chi^{(3)}_{yzyz} = 1.8706799989841718e-38 \\text{ } \\text{m}^2 / \\text{V}^2$$"
      ],
      "text/plain": [
       "<IPython.core.display.Math object>"
      ]
     },
     "metadata": {},
     "output_type": "display_data"
    },
    {
     "data": {
      "text/latex": [
       "$$\\chi^{(3)}_{yzzx} = 0.0 \\text{ } \\text{m}^2 / \\text{V}^2$$"
      ],
      "text/plain": [
       "<IPython.core.display.Math object>"
      ]
     },
     "metadata": {},
     "output_type": "display_data"
    },
    {
     "data": {
      "text/latex": [
       "$$\\chi^{(3)}_{yzzy} = 1.870679998984172e-38 \\text{ } \\text{m}^2 / \\text{V}^2$$"
      ],
      "text/plain": [
       "<IPython.core.display.Math object>"
      ]
     },
     "metadata": {},
     "output_type": "display_data"
    },
    {
     "data": {
      "text/latex": [
       "$$\\chi^{(3)}_{yzzz} = 0.0 \\text{ } \\text{m}^2 / \\text{V}^2$$"
      ],
      "text/plain": [
       "<IPython.core.display.Math object>"
      ]
     },
     "metadata": {},
     "output_type": "display_data"
    },
    {
     "data": {
      "text/latex": [
       "$$\\chi^{(3)}_{zxxx} = 0.0 \\text{ } \\text{m}^2 / \\text{V}^2$$"
      ],
      "text/plain": [
       "<IPython.core.display.Math object>"
      ]
     },
     "metadata": {},
     "output_type": "display_data"
    },
    {
     "data": {
      "text/latex": [
       "$$\\chi^{(3)}_{zxxy} = 0.0 \\text{ } \\text{m}^2 / \\text{V}^2$$"
      ],
      "text/plain": [
       "<IPython.core.display.Math object>"
      ]
     },
     "metadata": {},
     "output_type": "display_data"
    },
    {
     "data": {
      "text/latex": [
       "$$\\chi^{(3)}_{zxxz} = 1.870679998984172e-38 \\text{ } \\text{m}^2 / \\text{V}^2$$"
      ],
      "text/plain": [
       "<IPython.core.display.Math object>"
      ]
     },
     "metadata": {},
     "output_type": "display_data"
    },
    {
     "data": {
      "text/latex": [
       "$$\\chi^{(3)}_{zxyx} = 0.0 \\text{ } \\text{m}^2 / \\text{V}^2$$"
      ],
      "text/plain": [
       "<IPython.core.display.Math object>"
      ]
     },
     "metadata": {},
     "output_type": "display_data"
    },
    {
     "data": {
      "text/latex": [
       "$$\\chi^{(3)}_{zxyy} = 0.0 \\text{ } \\text{m}^2 / \\text{V}^2$$"
      ],
      "text/plain": [
       "<IPython.core.display.Math object>"
      ]
     },
     "metadata": {},
     "output_type": "display_data"
    },
    {
     "data": {
      "text/latex": [
       "$$\\chi^{(3)}_{zxyz} = 0.0 \\text{ } \\text{m}^2 / \\text{V}^2$$"
      ],
      "text/plain": [
       "<IPython.core.display.Math object>"
      ]
     },
     "metadata": {},
     "output_type": "display_data"
    },
    {
     "data": {
      "text/latex": [
       "$$\\chi^{(3)}_{zxzx} = 1.8706799989841718e-38 \\text{ } \\text{m}^2 / \\text{V}^2$$"
      ],
      "text/plain": [
       "<IPython.core.display.Math object>"
      ]
     },
     "metadata": {},
     "output_type": "display_data"
    },
    {
     "data": {
      "text/latex": [
       "$$\\chi^{(3)}_{zxzy} = 0.0 \\text{ } \\text{m}^2 / \\text{V}^2$$"
      ],
      "text/plain": [
       "<IPython.core.display.Math object>"
      ]
     },
     "metadata": {},
     "output_type": "display_data"
    },
    {
     "data": {
      "text/latex": [
       "$$\\chi^{(3)}_{zxzz} = 0.0 \\text{ } \\text{m}^2 / \\text{V}^2$$"
      ],
      "text/plain": [
       "<IPython.core.display.Math object>"
      ]
     },
     "metadata": {},
     "output_type": "display_data"
    },
    {
     "data": {
      "text/latex": [
       "$$\\chi^{(3)}_{zyxx} = 0.0 \\text{ } \\text{m}^2 / \\text{V}^2$$"
      ],
      "text/plain": [
       "<IPython.core.display.Math object>"
      ]
     },
     "metadata": {},
     "output_type": "display_data"
    },
    {
     "data": {
      "text/latex": [
       "$$\\chi^{(3)}_{zyxy} = 0.0 \\text{ } \\text{m}^2 / \\text{V}^2$$"
      ],
      "text/plain": [
       "<IPython.core.display.Math object>"
      ]
     },
     "metadata": {},
     "output_type": "display_data"
    },
    {
     "data": {
      "text/latex": [
       "$$\\chi^{(3)}_{zyxz} = 0.0 \\text{ } \\text{m}^2 / \\text{V}^2$$"
      ],
      "text/plain": [
       "<IPython.core.display.Math object>"
      ]
     },
     "metadata": {},
     "output_type": "display_data"
    },
    {
     "data": {
      "text/latex": [
       "$$\\chi^{(3)}_{zyyx} = 0.0 \\text{ } \\text{m}^2 / \\text{V}^2$$"
      ],
      "text/plain": [
       "<IPython.core.display.Math object>"
      ]
     },
     "metadata": {},
     "output_type": "display_data"
    },
    {
     "data": {
      "text/latex": [
       "$$\\chi^{(3)}_{zyyy} = 0.0 \\text{ } \\text{m}^2 / \\text{V}^2$$"
      ],
      "text/plain": [
       "<IPython.core.display.Math object>"
      ]
     },
     "metadata": {},
     "output_type": "display_data"
    },
    {
     "data": {
      "text/latex": [
       "$$\\chi^{(3)}_{zyyz} = 1.870679998984172e-38 \\text{ } \\text{m}^2 / \\text{V}^2$$"
      ],
      "text/plain": [
       "<IPython.core.display.Math object>"
      ]
     },
     "metadata": {},
     "output_type": "display_data"
    },
    {
     "data": {
      "text/latex": [
       "$$\\chi^{(3)}_{zyzx} = 0.0 \\text{ } \\text{m}^2 / \\text{V}^2$$"
      ],
      "text/plain": [
       "<IPython.core.display.Math object>"
      ]
     },
     "metadata": {},
     "output_type": "display_data"
    },
    {
     "data": {
      "text/latex": [
       "$$\\chi^{(3)}_{zyzy} = 1.8706799989841718e-38 \\text{ } \\text{m}^2 / \\text{V}^2$$"
      ],
      "text/plain": [
       "<IPython.core.display.Math object>"
      ]
     },
     "metadata": {},
     "output_type": "display_data"
    },
    {
     "data": {
      "text/latex": [
       "$$\\chi^{(3)}_{zyzz} = 0.0 \\text{ } \\text{m}^2 / \\text{V}^2$$"
      ],
      "text/plain": [
       "<IPython.core.display.Math object>"
      ]
     },
     "metadata": {},
     "output_type": "display_data"
    },
    {
     "data": {
      "text/latex": [
       "$$\\chi^{(3)}_{zzxx} = 1.8706799989841718e-38 \\text{ } \\text{m}^2 / \\text{V}^2$$"
      ],
      "text/plain": [
       "<IPython.core.display.Math object>"
      ]
     },
     "metadata": {},
     "output_type": "display_data"
    },
    {
     "data": {
      "text/latex": [
       "$$\\chi^{(3)}_{zzxy} = 0.0 \\text{ } \\text{m}^2 / \\text{V}^2$$"
      ],
      "text/plain": [
       "<IPython.core.display.Math object>"
      ]
     },
     "metadata": {},
     "output_type": "display_data"
    },
    {
     "data": {
      "text/latex": [
       "$$\\chi^{(3)}_{zzxz} = 0.0 \\text{ } \\text{m}^2 / \\text{V}^2$$"
      ],
      "text/plain": [
       "<IPython.core.display.Math object>"
      ]
     },
     "metadata": {},
     "output_type": "display_data"
    },
    {
     "data": {
      "text/latex": [
       "$$\\chi^{(3)}_{zzyx} = 0.0 \\text{ } \\text{m}^2 / \\text{V}^2$$"
      ],
      "text/plain": [
       "<IPython.core.display.Math object>"
      ]
     },
     "metadata": {},
     "output_type": "display_data"
    },
    {
     "data": {
      "text/latex": [
       "$$\\chi^{(3)}_{zzyy} = 1.8706799989841718e-38 \\text{ } \\text{m}^2 / \\text{V}^2$$"
      ],
      "text/plain": [
       "<IPython.core.display.Math object>"
      ]
     },
     "metadata": {},
     "output_type": "display_data"
    },
    {
     "data": {
      "text/latex": [
       "$$\\chi^{(3)}_{zzyz} = 0.0 \\text{ } \\text{m}^2 / \\text{V}^2$$"
      ],
      "text/plain": [
       "<IPython.core.display.Math object>"
      ]
     },
     "metadata": {},
     "output_type": "display_data"
    },
    {
     "data": {
      "text/latex": [
       "$$\\chi^{(3)}_{zzzx} = 0.0 \\text{ } \\text{m}^2 / \\text{V}^2$$"
      ],
      "text/plain": [
       "<IPython.core.display.Math object>"
      ]
     },
     "metadata": {},
     "output_type": "display_data"
    },
    {
     "data": {
      "text/latex": [
       "$$\\chi^{(3)}_{zzzy} = 0.0 \\text{ } \\text{m}^2 / \\text{V}^2$$"
      ],
      "text/plain": [
       "<IPython.core.display.Math object>"
      ]
     },
     "metadata": {},
     "output_type": "display_data"
    },
    {
     "data": {
      "text/latex": [
       "$$\\chi^{(3)}_{zzzz} = 5.612039996952516e-38 \\text{ } \\text{m}^2 / \\text{V}^2$$"
      ],
      "text/plain": [
       "<IPython.core.display.Math object>"
      ]
     },
     "metadata": {},
     "output_type": "display_data"
    }
   ],
   "source": [
    "#Compute Excited State chi3\n",
    "\n",
    "gamma_NB_4th_excite_calc = [[(0,0,0,0),         29.9124]\n",
    "                            ,[(0,0,1,1),         45.3638]\n",
    "                            ,[(0,1,1,0),         45.3638]\n",
    "                            ,[(0,1,0,1),         45.3638]\n",
    "                            ,[(0,0,2,2),        -32.9348]\n",
    "                            ,[(0,2,2,0),        -32.9348]\n",
    "                            ,[(0,2,0,2),        -32.9348]\n",
    "                            ,[(1,1,0,0),         45.3638]\n",
    "                            ,[(1,0,0,1),         45.3638]\n",
    "                            ,[(1,0,1,0),         45.3638]\n",
    "                            ,[(1,1,1,1),       1891.8862]\n",
    "                            ,[(1,1,2,2),       -712.9052]\n",
    "                            ,[(1,2,2,1),       -712.9052]\n",
    "                            ,[(1,2,1,2),       -712.9052]\n",
    "                            ,[(2,2,0,0),        -32.9348]\n",
    "                            ,[(2,0,0,2),        -32.9348]\n",
    "                            ,[(2,0,2,0),        -32.9348]\n",
    "                            ,[(2,2,1,1),       -712.9052]\n",
    "                            ,[(2,1,1,2),       -712.9052]\n",
    "                            ,[(2,1,2,1),       -712.9052]\n",
    "                            ,[(2,2,2,2),      28108.3138]]\n",
    "\n",
    "gamma_NB_4th_excite_rot_ave, chi3_NB_4th_excite_rot_ave = compute_and_display_chi3_from_raw_gamma(gamma_NB_4th_excite_calc, .8, .8, .8, .8)"
   ]
  },
  {
   "cell_type": "code",
   "execution_count": 7,
   "metadata": {
    "collapsed": true
   },
   "outputs": [
    {
     "data": {
      "text/latex": [
       "$$\\textrm{Ground State } \\chi^{(3)}_{xyyx} = 8.996686865263812e-38 \\text{ } \\text{m}^2 / \\text{V}^2$$"
      ],
      "text/plain": [
       "<IPython.core.display.Math object>"
      ]
     },
     "metadata": {},
     "output_type": "display_data"
    },
    {
     "data": {
      "text/latex": [
       "$$\\textrm{Excited State } \\chi^{(3)}_{xyyx} = 1.870679998984172e-38 \\text{ } \\text{m}^2 / \\text{V}^2$$"
      ],
      "text/plain": [
       "<IPython.core.display.Math object>"
      ]
     },
     "metadata": {},
     "output_type": "display_data"
    },
    {
     "data": {
      "text/latex": [
       "$$\\Delta\\chi^{(3)}_{xyyx} = -7.12600686627964e-38 \\text{ } \\text{m}^2 / \\text{V}^2$$"
      ],
      "text/plain": [
       "<IPython.core.display.Math object>"
      ]
     },
     "metadata": {},
     "output_type": "display_data"
    },
    {
     "name": "stdout",
     "output_type": "stream",
     "text": [
      "\n"
     ]
    },
    {
     "data": {
      "text/latex": [
       "$$\\textrm{Ground State } \\gamma_{xyyx} = 9179.107343333335 \\textrm{\t a.u.}$$"
      ],
      "text/plain": [
       "<IPython.core.display.Math object>"
      ]
     },
     "metadata": {},
     "output_type": "display_data"
    },
    {
     "data": {
      "text/latex": [
       "$$\\textrm{Excited State } \\gamma_{xyyx} = 1908.6106666666667 \\textrm{\t a.u.}$$"
      ],
      "text/plain": [
       "<IPython.core.display.Math object>"
      ]
     },
     "metadata": {},
     "output_type": "display_data"
    },
    {
     "data": {
      "text/latex": [
       "$$\\Delta\\gamma_{xyyx} = -7270.4966766666685 \\textrm{\t a.u.}$$"
      ],
      "text/plain": [
       "<IPython.core.display.Math object>"
      ]
     },
     "metadata": {},
     "output_type": "display_data"
    }
   ],
   "source": [
    "delta_gamma = (gamma_NB_4th_excite_rot_ave[0][1][1][0] - gamma_NB_ground_rot_ave[0][1][1][0])\n",
    "delta_chi3 =  chi3_NB_4th_excite_rot_ave[0][1][1][0] - chi3_NB_ground_rot_ave[0][1][1][0]\n",
    "\n",
    "display(Math(\"\\\\textrm{{Ground State }} {0} = {1} \\\\text{{ }} \\\\text{{m}}^2 / \\\\text{{V}}^2\".format(sp.latex(chi3_sym[0][1][1][0]), chi3_NB_ground_rot_ave[0][1][1][0])))\n",
    "display(Math(\"\\\\textrm{{Excited State }} {0} = {1} \\\\text{{ }} \\\\text{{m}}^2 / \\\\text{{V}}^2\".format(sp.latex(chi3_sym[0][1][1][0]), chi3_NB_4th_excite_rot_ave[0][1][1][0])))\n",
    "display(Math(\"\\Delta{0} = {1} \\\\text{{ }} \\\\text{{m}}^2 / \\\\text{{V}}^2\".format(sp.latex(chi3_sym[0][1][1][0]), delta_chi3)))\n",
    "\n",
    "print('')\n",
    "display(Math(\"\\\\textrm{{Ground State }} {0} = {1} \\\\textrm{{\\t a.u.}}\".format(sp.latex(gamma_sym[0][1][1][0]), gamma_NB_ground_rot_ave[0][1][1][0])))\n",
    "display(Math(\"\\\\textrm{{Excited State }} {0} = {1} \\\\textrm{{\\t a.u.}}\".format(sp.latex(gamma_sym[0][1][1][0]), gamma_NB_4th_excite_rot_ave[0][1][1][0])))\n",
    "display(Math(\"\\Delta{0} = {1} \\\\textrm{{\\t a.u.}}\".format(sp.latex(gamma_sym[0][1][1][0]), delta_gamma)))"
   ]
  },
  {
   "cell_type": "code",
   "execution_count": 29,
   "metadata": {},
   "outputs": [
    {
     "data": {
      "text/latex": [
       "$$\\chi^{(3)}_{eff} = \\chi^{(3)}_{yxxy} + \\chi^{(3)}_{yxyx}$$"
      ],
      "text/plain": [
       "<IPython.core.display.Math object>"
      ]
     },
     "metadata": {},
     "output_type": "display_data"
    }
   ],
   "source": [
    "chi3_eff = sp.symbols(\"chi^(3)_eff\")\n",
    "chi3_sym\n",
    "display(Math(\"{0} = {1}\".format(sp.latex(chi3_eff), sp.latex(chi3_sym[1][0][0][1] + chi3_sym[1][0][1][0]))))"
   ]
  },
  {
   "cell_type": "code",
   "execution_count": 30,
   "metadata": {
    "collapsed": true
   },
   "outputs": [
    {
     "data": {
      "text/latex": [
       "$$\\chi^{(3)}_{xxxx} = 1.7648257579160465e-37 \\text{ } \\text{m}^2 / \\text{V}^2$$"
      ],
      "text/plain": [
       "<IPython.core.display.Math object>"
      ]
     },
     "metadata": {},
     "output_type": "display_data"
    },
    {
     "data": {
      "text/latex": [
       "$$\\chi^{(3)}_{xxxy} = 0.0 \\text{ } \\text{m}^2 / \\text{V}^2$$"
      ],
      "text/plain": [
       "<IPython.core.display.Math object>"
      ]
     },
     "metadata": {},
     "output_type": "display_data"
    },
    {
     "data": {
      "text/latex": [
       "$$\\chi^{(3)}_{xxxz} = 0.0 \\text{ } \\text{m}^2 / \\text{V}^2$$"
      ],
      "text/plain": [
       "<IPython.core.display.Math object>"
      ]
     },
     "metadata": {},
     "output_type": "display_data"
    },
    {
     "data": {
      "text/latex": [
       "$$\\chi^{(3)}_{xxyx} = 0.0 \\text{ } \\text{m}^2 / \\text{V}^2$$"
      ],
      "text/plain": [
       "<IPython.core.display.Math object>"
      ]
     },
     "metadata": {},
     "output_type": "display_data"
    },
    {
     "data": {
      "text/latex": [
       "$$\\chi^{(3)}_{xxyy} = 5.88275252638682e-38 \\text{ } \\text{m}^2 / \\text{V}^2$$"
      ],
      "text/plain": [
       "<IPython.core.display.Math object>"
      ]
     },
     "metadata": {},
     "output_type": "display_data"
    },
    {
     "data": {
      "text/latex": [
       "$$\\chi^{(3)}_{xxyz} = 0.0 \\text{ } \\text{m}^2 / \\text{V}^2$$"
      ],
      "text/plain": [
       "<IPython.core.display.Math object>"
      ]
     },
     "metadata": {},
     "output_type": "display_data"
    },
    {
     "data": {
      "text/latex": [
       "$$\\chi^{(3)}_{xxzx} = 0.0 \\text{ } \\text{m}^2 / \\text{V}^2$$"
      ],
      "text/plain": [
       "<IPython.core.display.Math object>"
      ]
     },
     "metadata": {},
     "output_type": "display_data"
    },
    {
     "data": {
      "text/latex": [
       "$$\\chi^{(3)}_{xxzy} = 0.0 \\text{ } \\text{m}^2 / \\text{V}^2$$"
      ],
      "text/plain": [
       "<IPython.core.display.Math object>"
      ]
     },
     "metadata": {},
     "output_type": "display_data"
    },
    {
     "data": {
      "text/latex": [
       "$$\\chi^{(3)}_{xxzz} = 5.88275252638682e-38 \\text{ } \\text{m}^2 / \\text{V}^2$$"
      ],
      "text/plain": [
       "<IPython.core.display.Math object>"
      ]
     },
     "metadata": {},
     "output_type": "display_data"
    },
    {
     "data": {
      "text/latex": [
       "$$\\chi^{(3)}_{xyxx} = 0.0 \\text{ } \\text{m}^2 / \\text{V}^2$$"
      ],
      "text/plain": [
       "<IPython.core.display.Math object>"
      ]
     },
     "metadata": {},
     "output_type": "display_data"
    },
    {
     "data": {
      "text/latex": [
       "$$\\chi^{(3)}_{xyxy} = 5.88275252638682e-38 \\text{ } \\text{m}^2 / \\text{V}^2$$"
      ],
      "text/plain": [
       "<IPython.core.display.Math object>"
      ]
     },
     "metadata": {},
     "output_type": "display_data"
    },
    {
     "data": {
      "text/latex": [
       "$$\\chi^{(3)}_{xyxz} = 0.0 \\text{ } \\text{m}^2 / \\text{V}^2$$"
      ],
      "text/plain": [
       "<IPython.core.display.Math object>"
      ]
     },
     "metadata": {},
     "output_type": "display_data"
    },
    {
     "data": {
      "text/latex": [
       "$$\\chi^{(3)}_{xyyx} = 5.88275252638682e-38 \\text{ } \\text{m}^2 / \\text{V}^2$$"
      ],
      "text/plain": [
       "<IPython.core.display.Math object>"
      ]
     },
     "metadata": {},
     "output_type": "display_data"
    },
    {
     "data": {
      "text/latex": [
       "$$\\chi^{(3)}_{xyyy} = 0.0 \\text{ } \\text{m}^2 / \\text{V}^2$$"
      ],
      "text/plain": [
       "<IPython.core.display.Math object>"
      ]
     },
     "metadata": {},
     "output_type": "display_data"
    },
    {
     "data": {
      "text/latex": [
       "$$\\chi^{(3)}_{xyyz} = 0.0 \\text{ } \\text{m}^2 / \\text{V}^2$$"
      ],
      "text/plain": [
       "<IPython.core.display.Math object>"
      ]
     },
     "metadata": {},
     "output_type": "display_data"
    },
    {
     "data": {
      "text/latex": [
       "$$\\chi^{(3)}_{xyzx} = 0.0 \\text{ } \\text{m}^2 / \\text{V}^2$$"
      ],
      "text/plain": [
       "<IPython.core.display.Math object>"
      ]
     },
     "metadata": {},
     "output_type": "display_data"
    },
    {
     "data": {
      "text/latex": [
       "$$\\chi^{(3)}_{xyzy} = 0.0 \\text{ } \\text{m}^2 / \\text{V}^2$$"
      ],
      "text/plain": [
       "<IPython.core.display.Math object>"
      ]
     },
     "metadata": {},
     "output_type": "display_data"
    },
    {
     "data": {
      "text/latex": [
       "$$\\chi^{(3)}_{xyzz} = 0.0 \\text{ } \\text{m}^2 / \\text{V}^2$$"
      ],
      "text/plain": [
       "<IPython.core.display.Math object>"
      ]
     },
     "metadata": {},
     "output_type": "display_data"
    },
    {
     "data": {
      "text/latex": [
       "$$\\chi^{(3)}_{xzxx} = 0.0 \\text{ } \\text{m}^2 / \\text{V}^2$$"
      ],
      "text/plain": [
       "<IPython.core.display.Math object>"
      ]
     },
     "metadata": {},
     "output_type": "display_data"
    },
    {
     "data": {
      "text/latex": [
       "$$\\chi^{(3)}_{xzxy} = 0.0 \\text{ } \\text{m}^2 / \\text{V}^2$$"
      ],
      "text/plain": [
       "<IPython.core.display.Math object>"
      ]
     },
     "metadata": {},
     "output_type": "display_data"
    },
    {
     "data": {
      "text/latex": [
       "$$\\chi^{(3)}_{xzxz} = 5.88275252638682e-38 \\text{ } \\text{m}^2 / \\text{V}^2$$"
      ],
      "text/plain": [
       "<IPython.core.display.Math object>"
      ]
     },
     "metadata": {},
     "output_type": "display_data"
    },
    {
     "data": {
      "text/latex": [
       "$$\\chi^{(3)}_{xzyx} = 0.0 \\text{ } \\text{m}^2 / \\text{V}^2$$"
      ],
      "text/plain": [
       "<IPython.core.display.Math object>"
      ]
     },
     "metadata": {},
     "output_type": "display_data"
    },
    {
     "data": {
      "text/latex": [
       "$$\\chi^{(3)}_{xzyy} = 0.0 \\text{ } \\text{m}^2 / \\text{V}^2$$"
      ],
      "text/plain": [
       "<IPython.core.display.Math object>"
      ]
     },
     "metadata": {},
     "output_type": "display_data"
    },
    {
     "data": {
      "text/latex": [
       "$$\\chi^{(3)}_{xzyz} = 0.0 \\text{ } \\text{m}^2 / \\text{V}^2$$"
      ],
      "text/plain": [
       "<IPython.core.display.Math object>"
      ]
     },
     "metadata": {},
     "output_type": "display_data"
    },
    {
     "data": {
      "text/latex": [
       "$$\\chi^{(3)}_{xzzx} = 5.88275252638682e-38 \\text{ } \\text{m}^2 / \\text{V}^2$$"
      ],
      "text/plain": [
       "<IPython.core.display.Math object>"
      ]
     },
     "metadata": {},
     "output_type": "display_data"
    },
    {
     "data": {
      "text/latex": [
       "$$\\chi^{(3)}_{xzzy} = 0.0 \\text{ } \\text{m}^2 / \\text{V}^2$$"
      ],
      "text/plain": [
       "<IPython.core.display.Math object>"
      ]
     },
     "metadata": {},
     "output_type": "display_data"
    },
    {
     "data": {
      "text/latex": [
       "$$\\chi^{(3)}_{xzzz} = 0.0 \\text{ } \\text{m}^2 / \\text{V}^2$$"
      ],
      "text/plain": [
       "<IPython.core.display.Math object>"
      ]
     },
     "metadata": {},
     "output_type": "display_data"
    },
    {
     "data": {
      "text/latex": [
       "$$\\chi^{(3)}_{yxxx} = 0.0 \\text{ } \\text{m}^2 / \\text{V}^2$$"
      ],
      "text/plain": [
       "<IPython.core.display.Math object>"
      ]
     },
     "metadata": {},
     "output_type": "display_data"
    },
    {
     "data": {
      "text/latex": [
       "$$\\chi^{(3)}_{yxxy} = 5.88275252638682e-38 \\text{ } \\text{m}^2 / \\text{V}^2$$"
      ],
      "text/plain": [
       "<IPython.core.display.Math object>"
      ]
     },
     "metadata": {},
     "output_type": "display_data"
    },
    {
     "data": {
      "text/latex": [
       "$$\\chi^{(3)}_{yxxz} = 0.0 \\text{ } \\text{m}^2 / \\text{V}^2$$"
      ],
      "text/plain": [
       "<IPython.core.display.Math object>"
      ]
     },
     "metadata": {},
     "output_type": "display_data"
    },
    {
     "data": {
      "text/latex": [
       "$$\\chi^{(3)}_{yxyx} = 5.88275252638682e-38 \\text{ } \\text{m}^2 / \\text{V}^2$$"
      ],
      "text/plain": [
       "<IPython.core.display.Math object>"
      ]
     },
     "metadata": {},
     "output_type": "display_data"
    },
    {
     "data": {
      "text/latex": [
       "$$\\chi^{(3)}_{yxyy} = 0.0 \\text{ } \\text{m}^2 / \\text{V}^2$$"
      ],
      "text/plain": [
       "<IPython.core.display.Math object>"
      ]
     },
     "metadata": {},
     "output_type": "display_data"
    },
    {
     "data": {
      "text/latex": [
       "$$\\chi^{(3)}_{yxyz} = 0.0 \\text{ } \\text{m}^2 / \\text{V}^2$$"
      ],
      "text/plain": [
       "<IPython.core.display.Math object>"
      ]
     },
     "metadata": {},
     "output_type": "display_data"
    },
    {
     "data": {
      "text/latex": [
       "$$\\chi^{(3)}_{yxzx} = 0.0 \\text{ } \\text{m}^2 / \\text{V}^2$$"
      ],
      "text/plain": [
       "<IPython.core.display.Math object>"
      ]
     },
     "metadata": {},
     "output_type": "display_data"
    },
    {
     "data": {
      "text/latex": [
       "$$\\chi^{(3)}_{yxzy} = 0.0 \\text{ } \\text{m}^2 / \\text{V}^2$$"
      ],
      "text/plain": [
       "<IPython.core.display.Math object>"
      ]
     },
     "metadata": {},
     "output_type": "display_data"
    },
    {
     "data": {
      "text/latex": [
       "$$\\chi^{(3)}_{yxzz} = 0.0 \\text{ } \\text{m}^2 / \\text{V}^2$$"
      ],
      "text/plain": [
       "<IPython.core.display.Math object>"
      ]
     },
     "metadata": {},
     "output_type": "display_data"
    },
    {
     "data": {
      "text/latex": [
       "$$\\chi^{(3)}_{yyxx} = 5.88275252638682e-38 \\text{ } \\text{m}^2 / \\text{V}^2$$"
      ],
      "text/plain": [
       "<IPython.core.display.Math object>"
      ]
     },
     "metadata": {},
     "output_type": "display_data"
    },
    {
     "data": {
      "text/latex": [
       "$$\\chi^{(3)}_{yyxy} = 0.0 \\text{ } \\text{m}^2 / \\text{V}^2$$"
      ],
      "text/plain": [
       "<IPython.core.display.Math object>"
      ]
     },
     "metadata": {},
     "output_type": "display_data"
    },
    {
     "data": {
      "text/latex": [
       "$$\\chi^{(3)}_{yyxz} = 0.0 \\text{ } \\text{m}^2 / \\text{V}^2$$"
      ],
      "text/plain": [
       "<IPython.core.display.Math object>"
      ]
     },
     "metadata": {},
     "output_type": "display_data"
    },
    {
     "data": {
      "text/latex": [
       "$$\\chi^{(3)}_{yyyx} = 0.0 \\text{ } \\text{m}^2 / \\text{V}^2$$"
      ],
      "text/plain": [
       "<IPython.core.display.Math object>"
      ]
     },
     "metadata": {},
     "output_type": "display_data"
    },
    {
     "data": {
      "text/latex": [
       "$$\\chi^{(3)}_{yyyy} = 1.7648257579160465e-37 \\text{ } \\text{m}^2 / \\text{V}^2$$"
      ],
      "text/plain": [
       "<IPython.core.display.Math object>"
      ]
     },
     "metadata": {},
     "output_type": "display_data"
    },
    {
     "data": {
      "text/latex": [
       "$$\\chi^{(3)}_{yyyz} = 0.0 \\text{ } \\text{m}^2 / \\text{V}^2$$"
      ],
      "text/plain": [
       "<IPython.core.display.Math object>"
      ]
     },
     "metadata": {},
     "output_type": "display_data"
    },
    {
     "data": {
      "text/latex": [
       "$$\\chi^{(3)}_{yyzx} = 0.0 \\text{ } \\text{m}^2 / \\text{V}^2$$"
      ],
      "text/plain": [
       "<IPython.core.display.Math object>"
      ]
     },
     "metadata": {},
     "output_type": "display_data"
    },
    {
     "data": {
      "text/latex": [
       "$$\\chi^{(3)}_{yyzy} = 0.0 \\text{ } \\text{m}^2 / \\text{V}^2$$"
      ],
      "text/plain": [
       "<IPython.core.display.Math object>"
      ]
     },
     "metadata": {},
     "output_type": "display_data"
    },
    {
     "data": {
      "text/latex": [
       "$$\\chi^{(3)}_{yyzz} = 5.88275252638682e-38 \\text{ } \\text{m}^2 / \\text{V}^2$$"
      ],
      "text/plain": [
       "<IPython.core.display.Math object>"
      ]
     },
     "metadata": {},
     "output_type": "display_data"
    },
    {
     "data": {
      "text/latex": [
       "$$\\chi^{(3)}_{yzxx} = 0.0 \\text{ } \\text{m}^2 / \\text{V}^2$$"
      ],
      "text/plain": [
       "<IPython.core.display.Math object>"
      ]
     },
     "metadata": {},
     "output_type": "display_data"
    },
    {
     "data": {
      "text/latex": [
       "$$\\chi^{(3)}_{yzxy} = 0.0 \\text{ } \\text{m}^2 / \\text{V}^2$$"
      ],
      "text/plain": [
       "<IPython.core.display.Math object>"
      ]
     },
     "metadata": {},
     "output_type": "display_data"
    },
    {
     "data": {
      "text/latex": [
       "$$\\chi^{(3)}_{yzxz} = 0.0 \\text{ } \\text{m}^2 / \\text{V}^2$$"
      ],
      "text/plain": [
       "<IPython.core.display.Math object>"
      ]
     },
     "metadata": {},
     "output_type": "display_data"
    },
    {
     "data": {
      "text/latex": [
       "$$\\chi^{(3)}_{yzyx} = 0.0 \\text{ } \\text{m}^2 / \\text{V}^2$$"
      ],
      "text/plain": [
       "<IPython.core.display.Math object>"
      ]
     },
     "metadata": {},
     "output_type": "display_data"
    },
    {
     "data": {
      "text/latex": [
       "$$\\chi^{(3)}_{yzyy} = 0.0 \\text{ } \\text{m}^2 / \\text{V}^2$$"
      ],
      "text/plain": [
       "<IPython.core.display.Math object>"
      ]
     },
     "metadata": {},
     "output_type": "display_data"
    },
    {
     "data": {
      "text/latex": [
       "$$\\chi^{(3)}_{yzyz} = 5.88275252638682e-38 \\text{ } \\text{m}^2 / \\text{V}^2$$"
      ],
      "text/plain": [
       "<IPython.core.display.Math object>"
      ]
     },
     "metadata": {},
     "output_type": "display_data"
    },
    {
     "data": {
      "text/latex": [
       "$$\\chi^{(3)}_{yzzx} = 0.0 \\text{ } \\text{m}^2 / \\text{V}^2$$"
      ],
      "text/plain": [
       "<IPython.core.display.Math object>"
      ]
     },
     "metadata": {},
     "output_type": "display_data"
    },
    {
     "data": {
      "text/latex": [
       "$$\\chi^{(3)}_{yzzy} = 5.88275252638682e-38 \\text{ } \\text{m}^2 / \\text{V}^2$$"
      ],
      "text/plain": [
       "<IPython.core.display.Math object>"
      ]
     },
     "metadata": {},
     "output_type": "display_data"
    },
    {
     "data": {
      "text/latex": [
       "$$\\chi^{(3)}_{yzzz} = 0.0 \\text{ } \\text{m}^2 / \\text{V}^2$$"
      ],
      "text/plain": [
       "<IPython.core.display.Math object>"
      ]
     },
     "metadata": {},
     "output_type": "display_data"
    },
    {
     "data": {
      "text/latex": [
       "$$\\chi^{(3)}_{zxxx} = 0.0 \\text{ } \\text{m}^2 / \\text{V}^2$$"
      ],
      "text/plain": [
       "<IPython.core.display.Math object>"
      ]
     },
     "metadata": {},
     "output_type": "display_data"
    },
    {
     "data": {
      "text/latex": [
       "$$\\chi^{(3)}_{zxxy} = 0.0 \\text{ } \\text{m}^2 / \\text{V}^2$$"
      ],
      "text/plain": [
       "<IPython.core.display.Math object>"
      ]
     },
     "metadata": {},
     "output_type": "display_data"
    },
    {
     "data": {
      "text/latex": [
       "$$\\chi^{(3)}_{zxxz} = 5.88275252638682e-38 \\text{ } \\text{m}^2 / \\text{V}^2$$"
      ],
      "text/plain": [
       "<IPython.core.display.Math object>"
      ]
     },
     "metadata": {},
     "output_type": "display_data"
    },
    {
     "data": {
      "text/latex": [
       "$$\\chi^{(3)}_{zxyx} = 0.0 \\text{ } \\text{m}^2 / \\text{V}^2$$"
      ],
      "text/plain": [
       "<IPython.core.display.Math object>"
      ]
     },
     "metadata": {},
     "output_type": "display_data"
    },
    {
     "data": {
      "text/latex": [
       "$$\\chi^{(3)}_{zxyy} = 0.0 \\text{ } \\text{m}^2 / \\text{V}^2$$"
      ],
      "text/plain": [
       "<IPython.core.display.Math object>"
      ]
     },
     "metadata": {},
     "output_type": "display_data"
    },
    {
     "data": {
      "text/latex": [
       "$$\\chi^{(3)}_{zxyz} = 0.0 \\text{ } \\text{m}^2 / \\text{V}^2$$"
      ],
      "text/plain": [
       "<IPython.core.display.Math object>"
      ]
     },
     "metadata": {},
     "output_type": "display_data"
    },
    {
     "data": {
      "text/latex": [
       "$$\\chi^{(3)}_{zxzx} = 5.88275252638682e-38 \\text{ } \\text{m}^2 / \\text{V}^2$$"
      ],
      "text/plain": [
       "<IPython.core.display.Math object>"
      ]
     },
     "metadata": {},
     "output_type": "display_data"
    },
    {
     "data": {
      "text/latex": [
       "$$\\chi^{(3)}_{zxzy} = 0.0 \\text{ } \\text{m}^2 / \\text{V}^2$$"
      ],
      "text/plain": [
       "<IPython.core.display.Math object>"
      ]
     },
     "metadata": {},
     "output_type": "display_data"
    },
    {
     "data": {
      "text/latex": [
       "$$\\chi^{(3)}_{zxzz} = 0.0 \\text{ } \\text{m}^2 / \\text{V}^2$$"
      ],
      "text/plain": [
       "<IPython.core.display.Math object>"
      ]
     },
     "metadata": {},
     "output_type": "display_data"
    },
    {
     "data": {
      "text/latex": [
       "$$\\chi^{(3)}_{zyxx} = 0.0 \\text{ } \\text{m}^2 / \\text{V}^2$$"
      ],
      "text/plain": [
       "<IPython.core.display.Math object>"
      ]
     },
     "metadata": {},
     "output_type": "display_data"
    },
    {
     "data": {
      "text/latex": [
       "$$\\chi^{(3)}_{zyxy} = 0.0 \\text{ } \\text{m}^2 / \\text{V}^2$$"
      ],
      "text/plain": [
       "<IPython.core.display.Math object>"
      ]
     },
     "metadata": {},
     "output_type": "display_data"
    },
    {
     "data": {
      "text/latex": [
       "$$\\chi^{(3)}_{zyxz} = 0.0 \\text{ } \\text{m}^2 / \\text{V}^2$$"
      ],
      "text/plain": [
       "<IPython.core.display.Math object>"
      ]
     },
     "metadata": {},
     "output_type": "display_data"
    },
    {
     "data": {
      "text/latex": [
       "$$\\chi^{(3)}_{zyyx} = 0.0 \\text{ } \\text{m}^2 / \\text{V}^2$$"
      ],
      "text/plain": [
       "<IPython.core.display.Math object>"
      ]
     },
     "metadata": {},
     "output_type": "display_data"
    },
    {
     "data": {
      "text/latex": [
       "$$\\chi^{(3)}_{zyyy} = 0.0 \\text{ } \\text{m}^2 / \\text{V}^2$$"
      ],
      "text/plain": [
       "<IPython.core.display.Math object>"
      ]
     },
     "metadata": {},
     "output_type": "display_data"
    },
    {
     "data": {
      "text/latex": [
       "$$\\chi^{(3)}_{zyyz} = 5.88275252638682e-38 \\text{ } \\text{m}^2 / \\text{V}^2$$"
      ],
      "text/plain": [
       "<IPython.core.display.Math object>"
      ]
     },
     "metadata": {},
     "output_type": "display_data"
    },
    {
     "data": {
      "text/latex": [
       "$$\\chi^{(3)}_{zyzx} = 0.0 \\text{ } \\text{m}^2 / \\text{V}^2$$"
      ],
      "text/plain": [
       "<IPython.core.display.Math object>"
      ]
     },
     "metadata": {},
     "output_type": "display_data"
    },
    {
     "data": {
      "text/latex": [
       "$$\\chi^{(3)}_{zyzy} = 5.88275252638682e-38 \\text{ } \\text{m}^2 / \\text{V}^2$$"
      ],
      "text/plain": [
       "<IPython.core.display.Math object>"
      ]
     },
     "metadata": {},
     "output_type": "display_data"
    },
    {
     "data": {
      "text/latex": [
       "$$\\chi^{(3)}_{zyzz} = 0.0 \\text{ } \\text{m}^2 / \\text{V}^2$$"
      ],
      "text/plain": [
       "<IPython.core.display.Math object>"
      ]
     },
     "metadata": {},
     "output_type": "display_data"
    },
    {
     "data": {
      "text/latex": [
       "$$\\chi^{(3)}_{zzxx} = 5.88275252638682e-38 \\text{ } \\text{m}^2 / \\text{V}^2$$"
      ],
      "text/plain": [
       "<IPython.core.display.Math object>"
      ]
     },
     "metadata": {},
     "output_type": "display_data"
    },
    {
     "data": {
      "text/latex": [
       "$$\\chi^{(3)}_{zzxy} = 0.0 \\text{ } \\text{m}^2 / \\text{V}^2$$"
      ],
      "text/plain": [
       "<IPython.core.display.Math object>"
      ]
     },
     "metadata": {},
     "output_type": "display_data"
    },
    {
     "data": {
      "text/latex": [
       "$$\\chi^{(3)}_{zzxz} = 0.0 \\text{ } \\text{m}^2 / \\text{V}^2$$"
      ],
      "text/plain": [
       "<IPython.core.display.Math object>"
      ]
     },
     "metadata": {},
     "output_type": "display_data"
    },
    {
     "data": {
      "text/latex": [
       "$$\\chi^{(3)}_{zzyx} = 0.0 \\text{ } \\text{m}^2 / \\text{V}^2$$"
      ],
      "text/plain": [
       "<IPython.core.display.Math object>"
      ]
     },
     "metadata": {},
     "output_type": "display_data"
    },
    {
     "data": {
      "text/latex": [
       "$$\\chi^{(3)}_{zzyy} = 5.88275252638682e-38 \\text{ } \\text{m}^2 / \\text{V}^2$$"
      ],
      "text/plain": [
       "<IPython.core.display.Math object>"
      ]
     },
     "metadata": {},
     "output_type": "display_data"
    },
    {
     "data": {
      "text/latex": [
       "$$\\chi^{(3)}_{zzyz} = 0.0 \\text{ } \\text{m}^2 / \\text{V}^2$$"
      ],
      "text/plain": [
       "<IPython.core.display.Math object>"
      ]
     },
     "metadata": {},
     "output_type": "display_data"
    },
    {
     "data": {
      "text/latex": [
       "$$\\chi^{(3)}_{zzzx} = 0.0 \\text{ } \\text{m}^2 / \\text{V}^2$$"
      ],
      "text/plain": [
       "<IPython.core.display.Math object>"
      ]
     },
     "metadata": {},
     "output_type": "display_data"
    },
    {
     "data": {
      "text/latex": [
       "$$\\chi^{(3)}_{zzzy} = 0.0 \\text{ } \\text{m}^2 / \\text{V}^2$$"
      ],
      "text/plain": [
       "<IPython.core.display.Math object>"
      ]
     },
     "metadata": {},
     "output_type": "display_data"
    },
    {
     "data": {
      "text/latex": [
       "$$\\chi^{(3)}_{zzzz} = 1.7648257579160465e-37 \\text{ } \\text{m}^2 / \\text{V}^2$$"
      ],
      "text/plain": [
       "<IPython.core.display.Math object>"
      ]
     },
     "metadata": {},
     "output_type": "display_data"
    }
   ],
   "source": [
    "#Gamma gnd state 6-31++G**\n",
    "gamma_NB_grnd_631ppGss = [[(0,0,0,0),      10974.1348]\n",
    "                        ,[(0,0,1,1),       5335.1326]\n",
    "                        ,[(0,1,1,0),       5335.1326]\n",
    "                        ,[(0,1,0,1),       5335.1326]\n",
    "                        ,[(0,0,2,2),       3793.1726]\n",
    "                        ,[(0,2,2,0),       3793.1726]\n",
    "                        ,[(0,2,0,2),       3793.1726]\n",
    "                        ,[(1,1,0,0),       5335.1326]\n",
    "                        ,[(1,0,0,1),       5335.1326]\n",
    "                        ,[(1,0,1,0),       5335.1326]\n",
    "                        ,[(1,1,1,1),      10524.9418]\n",
    "                        ,[(1,1,2,2),       2680.5416]\n",
    "                        ,[(1,2,2,1),       2680.5416]\n",
    "                        ,[(1,2,1,2),       2680.5416]\n",
    "                        ,[(2,2,0,0),       3793.1726]\n",
    "                        ,[(2,0,0,2),       3793.1726]\n",
    "                        ,[(2,0,2,0),       3793.1726]\n",
    "                        ,[(2,2,1,1),       2680.5416]\n",
    "                        ,[(2,1,1,2),       2680.5416]\n",
    "                        ,[(2,1,2,1),       2680.5416]\n",
    "                        ,[(2,2,2,2),      44913.7339]]\n",
    "\n",
    "gamma_NB_grnd_631ppGss_rot_ave, chi3_NB_grnd_631ppGss_rot_ave = compute_and_display_chi3_from_raw_gamma(gamma_NB_grnd_631ppGss, .8, .8, .8, .8)"
   ]
  },
  {
   "cell_type": "code",
   "execution_count": 2,
   "metadata": {},
   "outputs": [
    {
     "data": {
      "text/plain": [
       "45.89388894208"
      ]
     },
     "execution_count": 2,
     "metadata": {},
     "output_type": "execute_result"
    }
   ],
   "source": [
    "4.589388894208E+01"
   ]
  },
  {
   "cell_type": "code",
   "execution_count": 17,
   "metadata": {},
   "outputs": [
    {
     "data": {
      "text/plain": [
       "(6.235380085e-65, 'C^4 m^4 J^-3', 7.7e-73)"
      ]
     },
     "execution_count": 17,
     "metadata": {},
     "output_type": "execute_result"
    }
   ],
   "source": [
    "constants.physical_constants[\"atomic unit of 2nd hyperpolarizability\"]"
   ]
  },
  {
   "cell_type": "code",
   "execution_count": 32,
   "metadata": {},
   "outputs": [
    {
     "data": {
      "image/png": "[encoded data removed]",
      "text/latex": [
       "$$8.854187817620389e-12$$"
      ],
      "text/plain": [
       "8.854187817620389e-12"
      ]
     },
     "execution_count": 32,
     "metadata": {},
     "output_type": "execute_result"
    }
   ],
   "source": [
    "constants.epsilon_0"
   ]
  },
  {
   "cell_type": "code",
   "execution_count": null,
   "metadata": {},
   "outputs": [],
   "source": []
  }
 ],
 "metadata": {
  "kernelspec": {
   "display_name": "Python 3",
   "language": "python",
   "name": "python3"
  },
  "language_info": {
   "codemirror_mode": {
    "name": "ipython",
    "version": 3
   },
   "file_extension": ".py",
   "mimetype": "text/x-python",
   "name": "python",
   "nbconvert_exporter": "python",
   "pygments_lexer": "ipython3",
   "version": "3.7.1"
  }
 },
 "nbformat": 4,
 "nbformat_minor": 2
}
